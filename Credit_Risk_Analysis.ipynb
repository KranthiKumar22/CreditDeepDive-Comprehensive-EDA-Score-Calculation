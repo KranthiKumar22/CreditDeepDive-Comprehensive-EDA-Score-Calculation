{
 "cells": [
  {
   "cell_type": "markdown",
   "id": "953a221e-b7a0-4538-a3e0-0970b9e3782a",
   "metadata": {},
   "source": [
    "## Problem statement:\n",
    "To conduct a thorough exploratory data analysis (EDA) and deep analysis of a comprehensive dataset containing basic customer details and extensive credit-related information. The aim is to create new, informative features, calculate a hypothetical credit score, and uncover meaningful patterns, anomalies, and insights within the data."
   ]
  },
  {
   "cell_type": "markdown",
   "id": "603a5f7e-d30d-4b00-a0ce-1e1613b92b31",
   "metadata": {},
   "source": [
    "### Importing necessary libraries and reading the dataset:"
   ]
  },
  {
   "cell_type": "code",
   "execution_count": 1,
   "id": "e69cf9fd-bff3-4bef-ad39-e47a8c66ac36",
   "metadata": {},
   "outputs": [],
   "source": [
    "import numpy as np\n",
    "import pandas as pd\n",
    "import matplotlib.pyplot as plt\n",
    "import seaborn as sns\n",
    "import warnings"
   ]
  },
  {
   "cell_type": "code",
   "execution_count": 2,
   "id": "7a47150c-4bc7-4fd8-a5cd-5a3a716e3be5",
   "metadata": {},
   "outputs": [],
   "source": [
    "warnings.filterwarnings('ignore')"
   ]
  },
  {
   "cell_type": "code",
   "execution_count": 3,
   "id": "85f0727f-126d-4abf-bf90-faed125ae1f7",
   "metadata": {},
   "outputs": [],
   "source": [
    "# Setting display option to show all columns\n",
    "pd.set_option('display.max_columns', None)"
   ]
  },
  {
   "cell_type": "code",
   "execution_count": 4,
   "id": "e07510fd-6c92-4ece-850d-e3989fb273dd",
   "metadata": {},
   "outputs": [],
   "source": [
    "df = pd.read_csv(\"Credit_score.csv\", low_memory=False)"
   ]
  },
  {
   "cell_type": "markdown",
   "id": "639786bf-2721-4197-8951-b3dd9af4a016",
   "metadata": {},
   "source": [
    "### Finding basic charachteristics and performing EDA:"
   ]
  },
  {
   "cell_type": "code",
   "execution_count": 5,
   "id": "cb468228-bfbc-4cc5-a17f-70d0680ce67e",
   "metadata": {},
   "outputs": [
    {
     "data": {
      "text/html": [
       "<div>\n",
       "<style scoped>\n",
       "    .dataframe tbody tr th:only-of-type {\n",
       "        vertical-align: middle;\n",
       "    }\n",
       "\n",
       "    .dataframe tbody tr th {\n",
       "        vertical-align: top;\n",
       "    }\n",
       "\n",
       "    .dataframe thead th {\n",
       "        text-align: right;\n",
       "    }\n",
       "</style>\n",
       "<table border=\"1\" class=\"dataframe\">\n",
       "  <thead>\n",
       "    <tr style=\"text-align: right;\">\n",
       "      <th></th>\n",
       "      <th>ID</th>\n",
       "      <th>Customer_ID</th>\n",
       "      <th>Month</th>\n",
       "      <th>Name</th>\n",
       "      <th>Age</th>\n",
       "      <th>SSN</th>\n",
       "      <th>Occupation</th>\n",
       "      <th>Annual_Income</th>\n",
       "      <th>Monthly_Inhand_Salary</th>\n",
       "      <th>Num_Bank_Accounts</th>\n",
       "      <th>Num_Credit_Card</th>\n",
       "      <th>Interest_Rate</th>\n",
       "      <th>Num_of_Loan</th>\n",
       "      <th>Type_of_Loan</th>\n",
       "      <th>Delay_from_due_date</th>\n",
       "      <th>Num_of_Delayed_Payment</th>\n",
       "      <th>Changed_Credit_Limit</th>\n",
       "      <th>Num_Credit_Inquiries</th>\n",
       "      <th>Credit_Mix</th>\n",
       "      <th>Outstanding_Debt</th>\n",
       "      <th>Credit_Utilization_Ratio</th>\n",
       "      <th>Credit_History_Age</th>\n",
       "      <th>Payment_of_Min_Amount</th>\n",
       "      <th>Total_EMI_per_month</th>\n",
       "      <th>Amount_invested_monthly</th>\n",
       "      <th>Payment_Behaviour</th>\n",
       "      <th>Monthly_Balance</th>\n",
       "    </tr>\n",
       "  </thead>\n",
       "  <tbody>\n",
       "    <tr>\n",
       "      <th>0</th>\n",
       "      <td>0x1602</td>\n",
       "      <td>CUS_0xd40</td>\n",
       "      <td>January</td>\n",
       "      <td>Aaron Maashoh</td>\n",
       "      <td>23</td>\n",
       "      <td>821-00-0265</td>\n",
       "      <td>Scientist</td>\n",
       "      <td>19114.12</td>\n",
       "      <td>1824.843333</td>\n",
       "      <td>3</td>\n",
       "      <td>4</td>\n",
       "      <td>3</td>\n",
       "      <td>4</td>\n",
       "      <td>Auto Loan, Credit-Builder Loan, Personal Loan,...</td>\n",
       "      <td>3</td>\n",
       "      <td>7</td>\n",
       "      <td>11.27</td>\n",
       "      <td>4.0</td>\n",
       "      <td>_</td>\n",
       "      <td>809.98</td>\n",
       "      <td>26.822620</td>\n",
       "      <td>22 Years and 1 Months</td>\n",
       "      <td>No</td>\n",
       "      <td>49.574949</td>\n",
       "      <td>80.41529544</td>\n",
       "      <td>High_spent_Small_value_payments</td>\n",
       "      <td>312.4940887</td>\n",
       "    </tr>\n",
       "    <tr>\n",
       "      <th>1</th>\n",
       "      <td>0x1603</td>\n",
       "      <td>CUS_0xd40</td>\n",
       "      <td>February</td>\n",
       "      <td>Aaron Maashoh</td>\n",
       "      <td>23</td>\n",
       "      <td>821-00-0265</td>\n",
       "      <td>Scientist</td>\n",
       "      <td>19114.12</td>\n",
       "      <td>NaN</td>\n",
       "      <td>3</td>\n",
       "      <td>4</td>\n",
       "      <td>3</td>\n",
       "      <td>4</td>\n",
       "      <td>Auto Loan, Credit-Builder Loan, Personal Loan,...</td>\n",
       "      <td>-1</td>\n",
       "      <td>NaN</td>\n",
       "      <td>11.27</td>\n",
       "      <td>4.0</td>\n",
       "      <td>Good</td>\n",
       "      <td>809.98</td>\n",
       "      <td>31.944960</td>\n",
       "      <td>NaN</td>\n",
       "      <td>No</td>\n",
       "      <td>49.574949</td>\n",
       "      <td>118.2802216</td>\n",
       "      <td>Low_spent_Large_value_payments</td>\n",
       "      <td>284.6291625</td>\n",
       "    </tr>\n",
       "    <tr>\n",
       "      <th>2</th>\n",
       "      <td>0x1604</td>\n",
       "      <td>CUS_0xd40</td>\n",
       "      <td>March</td>\n",
       "      <td>Aaron Maashoh</td>\n",
       "      <td>-500</td>\n",
       "      <td>821-00-0265</td>\n",
       "      <td>Scientist</td>\n",
       "      <td>19114.12</td>\n",
       "      <td>NaN</td>\n",
       "      <td>3</td>\n",
       "      <td>4</td>\n",
       "      <td>3</td>\n",
       "      <td>4</td>\n",
       "      <td>Auto Loan, Credit-Builder Loan, Personal Loan,...</td>\n",
       "      <td>3</td>\n",
       "      <td>7</td>\n",
       "      <td>_</td>\n",
       "      <td>4.0</td>\n",
       "      <td>Good</td>\n",
       "      <td>809.98</td>\n",
       "      <td>28.609352</td>\n",
       "      <td>22 Years and 3 Months</td>\n",
       "      <td>No</td>\n",
       "      <td>49.574949</td>\n",
       "      <td>81.69952126</td>\n",
       "      <td>Low_spent_Medium_value_payments</td>\n",
       "      <td>331.2098629</td>\n",
       "    </tr>\n",
       "    <tr>\n",
       "      <th>3</th>\n",
       "      <td>0x1605</td>\n",
       "      <td>CUS_0xd40</td>\n",
       "      <td>April</td>\n",
       "      <td>Aaron Maashoh</td>\n",
       "      <td>23</td>\n",
       "      <td>821-00-0265</td>\n",
       "      <td>Scientist</td>\n",
       "      <td>19114.12</td>\n",
       "      <td>NaN</td>\n",
       "      <td>3</td>\n",
       "      <td>4</td>\n",
       "      <td>3</td>\n",
       "      <td>4</td>\n",
       "      <td>Auto Loan, Credit-Builder Loan, Personal Loan,...</td>\n",
       "      <td>5</td>\n",
       "      <td>4</td>\n",
       "      <td>6.27</td>\n",
       "      <td>4.0</td>\n",
       "      <td>Good</td>\n",
       "      <td>809.98</td>\n",
       "      <td>31.377862</td>\n",
       "      <td>22 Years and 4 Months</td>\n",
       "      <td>No</td>\n",
       "      <td>49.574949</td>\n",
       "      <td>199.4580744</td>\n",
       "      <td>Low_spent_Small_value_payments</td>\n",
       "      <td>223.4513097</td>\n",
       "    </tr>\n",
       "    <tr>\n",
       "      <th>4</th>\n",
       "      <td>0x1606</td>\n",
       "      <td>CUS_0xd40</td>\n",
       "      <td>May</td>\n",
       "      <td>Aaron Maashoh</td>\n",
       "      <td>23</td>\n",
       "      <td>821-00-0265</td>\n",
       "      <td>Scientist</td>\n",
       "      <td>19114.12</td>\n",
       "      <td>1824.843333</td>\n",
       "      <td>3</td>\n",
       "      <td>4</td>\n",
       "      <td>3</td>\n",
       "      <td>4</td>\n",
       "      <td>Auto Loan, Credit-Builder Loan, Personal Loan,...</td>\n",
       "      <td>6</td>\n",
       "      <td>NaN</td>\n",
       "      <td>11.27</td>\n",
       "      <td>4.0</td>\n",
       "      <td>Good</td>\n",
       "      <td>809.98</td>\n",
       "      <td>24.797347</td>\n",
       "      <td>22 Years and 5 Months</td>\n",
       "      <td>No</td>\n",
       "      <td>49.574949</td>\n",
       "      <td>41.42015309</td>\n",
       "      <td>High_spent_Medium_value_payments</td>\n",
       "      <td>341.489231</td>\n",
       "    </tr>\n",
       "  </tbody>\n",
       "</table>\n",
       "</div>"
      ],
      "text/plain": [
       "       ID Customer_ID     Month           Name   Age          SSN Occupation  \\\n",
       "0  0x1602   CUS_0xd40   January  Aaron Maashoh    23  821-00-0265  Scientist   \n",
       "1  0x1603   CUS_0xd40  February  Aaron Maashoh    23  821-00-0265  Scientist   \n",
       "2  0x1604   CUS_0xd40     March  Aaron Maashoh  -500  821-00-0265  Scientist   \n",
       "3  0x1605   CUS_0xd40     April  Aaron Maashoh    23  821-00-0265  Scientist   \n",
       "4  0x1606   CUS_0xd40       May  Aaron Maashoh    23  821-00-0265  Scientist   \n",
       "\n",
       "  Annual_Income  Monthly_Inhand_Salary  Num_Bank_Accounts  Num_Credit_Card  \\\n",
       "0      19114.12            1824.843333                  3                4   \n",
       "1      19114.12                    NaN                  3                4   \n",
       "2      19114.12                    NaN                  3                4   \n",
       "3      19114.12                    NaN                  3                4   \n",
       "4      19114.12            1824.843333                  3                4   \n",
       "\n",
       "   Interest_Rate Num_of_Loan  \\\n",
       "0              3           4   \n",
       "1              3           4   \n",
       "2              3           4   \n",
       "3              3           4   \n",
       "4              3           4   \n",
       "\n",
       "                                        Type_of_Loan  Delay_from_due_date  \\\n",
       "0  Auto Loan, Credit-Builder Loan, Personal Loan,...                    3   \n",
       "1  Auto Loan, Credit-Builder Loan, Personal Loan,...                   -1   \n",
       "2  Auto Loan, Credit-Builder Loan, Personal Loan,...                    3   \n",
       "3  Auto Loan, Credit-Builder Loan, Personal Loan,...                    5   \n",
       "4  Auto Loan, Credit-Builder Loan, Personal Loan,...                    6   \n",
       "\n",
       "  Num_of_Delayed_Payment Changed_Credit_Limit  Num_Credit_Inquiries  \\\n",
       "0                      7                11.27                   4.0   \n",
       "1                    NaN                11.27                   4.0   \n",
       "2                      7                    _                   4.0   \n",
       "3                      4                 6.27                   4.0   \n",
       "4                    NaN                11.27                   4.0   \n",
       "\n",
       "  Credit_Mix Outstanding_Debt  Credit_Utilization_Ratio  \\\n",
       "0          _           809.98                 26.822620   \n",
       "1       Good           809.98                 31.944960   \n",
       "2       Good           809.98                 28.609352   \n",
       "3       Good           809.98                 31.377862   \n",
       "4       Good           809.98                 24.797347   \n",
       "\n",
       "      Credit_History_Age Payment_of_Min_Amount  Total_EMI_per_month  \\\n",
       "0  22 Years and 1 Months                    No            49.574949   \n",
       "1                    NaN                    No            49.574949   \n",
       "2  22 Years and 3 Months                    No            49.574949   \n",
       "3  22 Years and 4 Months                    No            49.574949   \n",
       "4  22 Years and 5 Months                    No            49.574949   \n",
       "\n",
       "  Amount_invested_monthly                 Payment_Behaviour Monthly_Balance  \n",
       "0             80.41529544   High_spent_Small_value_payments     312.4940887  \n",
       "1             118.2802216    Low_spent_Large_value_payments     284.6291625  \n",
       "2             81.69952126   Low_spent_Medium_value_payments     331.2098629  \n",
       "3             199.4580744    Low_spent_Small_value_payments     223.4513097  \n",
       "4             41.42015309  High_spent_Medium_value_payments      341.489231  "
      ]
     },
     "execution_count": 5,
     "metadata": {},
     "output_type": "execute_result"
    }
   ],
   "source": [
    "df.head()"
   ]
  },
  {
   "cell_type": "code",
   "execution_count": 6,
   "id": "71130e9b-c91e-494e-b2de-bbf7504096b1",
   "metadata": {},
   "outputs": [
    {
     "name": "stdout",
     "output_type": "stream",
     "text": [
      "No.of Rows:  100000\n",
      "No.of Columns:  27\n"
     ]
    }
   ],
   "source": [
    "print('No.of Rows: ', df.shape[0])\n",
    "print('No.of Columns: ', df.shape[1])"
   ]
  },
  {
   "cell_type": "code",
   "execution_count": 7,
   "id": "ea66ba49-b2b1-47de-8333-d18142805d05",
   "metadata": {},
   "outputs": [
    {
     "name": "stdout",
     "output_type": "stream",
     "text": [
      "<class 'pandas.core.frame.DataFrame'>\n",
      "RangeIndex: 100000 entries, 0 to 99999\n",
      "Data columns (total 27 columns):\n",
      " #   Column                    Non-Null Count   Dtype  \n",
      "---  ------                    --------------   -----  \n",
      " 0   ID                        100000 non-null  object \n",
      " 1   Customer_ID               100000 non-null  object \n",
      " 2   Month                     100000 non-null  object \n",
      " 3   Name                      90015 non-null   object \n",
      " 4   Age                       100000 non-null  object \n",
      " 5   SSN                       100000 non-null  object \n",
      " 6   Occupation                100000 non-null  object \n",
      " 7   Annual_Income             100000 non-null  object \n",
      " 8   Monthly_Inhand_Salary     84998 non-null   float64\n",
      " 9   Num_Bank_Accounts         100000 non-null  int64  \n",
      " 10  Num_Credit_Card           100000 non-null  int64  \n",
      " 11  Interest_Rate             100000 non-null  int64  \n",
      " 12  Num_of_Loan               100000 non-null  object \n",
      " 13  Type_of_Loan              88592 non-null   object \n",
      " 14  Delay_from_due_date       100000 non-null  int64  \n",
      " 15  Num_of_Delayed_Payment    92998 non-null   object \n",
      " 16  Changed_Credit_Limit      100000 non-null  object \n",
      " 17  Num_Credit_Inquiries      98035 non-null   float64\n",
      " 18  Credit_Mix                100000 non-null  object \n",
      " 19  Outstanding_Debt          100000 non-null  object \n",
      " 20  Credit_Utilization_Ratio  100000 non-null  float64\n",
      " 21  Credit_History_Age        90970 non-null   object \n",
      " 22  Payment_of_Min_Amount     100000 non-null  object \n",
      " 23  Total_EMI_per_month       100000 non-null  float64\n",
      " 24  Amount_invested_monthly   95521 non-null   object \n",
      " 25  Payment_Behaviour         100000 non-null  object \n",
      " 26  Monthly_Balance           98800 non-null   object \n",
      "dtypes: float64(4), int64(4), object(19)\n",
      "memory usage: 20.6+ MB\n"
     ]
    }
   ],
   "source": [
    "df.info()"
   ]
  },
  {
   "cell_type": "code",
   "execution_count": 8,
   "id": "40a0ab66-a448-4b74-9fb5-b6e95a11401c",
   "metadata": {},
   "outputs": [
    {
     "data": {
      "text/html": [
       "<div>\n",
       "<style scoped>\n",
       "    .dataframe tbody tr th:only-of-type {\n",
       "        vertical-align: middle;\n",
       "    }\n",
       "\n",
       "    .dataframe tbody tr th {\n",
       "        vertical-align: top;\n",
       "    }\n",
       "\n",
       "    .dataframe thead th {\n",
       "        text-align: right;\n",
       "    }\n",
       "</style>\n",
       "<table border=\"1\" class=\"dataframe\">\n",
       "  <thead>\n",
       "    <tr style=\"text-align: right;\">\n",
       "      <th></th>\n",
       "      <th>Monthly_Inhand_Salary</th>\n",
       "      <th>Num_Bank_Accounts</th>\n",
       "      <th>Num_Credit_Card</th>\n",
       "      <th>Interest_Rate</th>\n",
       "      <th>Delay_from_due_date</th>\n",
       "      <th>Num_Credit_Inquiries</th>\n",
       "      <th>Credit_Utilization_Ratio</th>\n",
       "      <th>Total_EMI_per_month</th>\n",
       "    </tr>\n",
       "  </thead>\n",
       "  <tbody>\n",
       "    <tr>\n",
       "      <th>count</th>\n",
       "      <td>84998.000000</td>\n",
       "      <td>100000.000000</td>\n",
       "      <td>100000.00000</td>\n",
       "      <td>100000.000000</td>\n",
       "      <td>100000.000000</td>\n",
       "      <td>98035.000000</td>\n",
       "      <td>100000.000000</td>\n",
       "      <td>100000.000000</td>\n",
       "    </tr>\n",
       "    <tr>\n",
       "      <th>mean</th>\n",
       "      <td>4194.170850</td>\n",
       "      <td>17.091280</td>\n",
       "      <td>22.47443</td>\n",
       "      <td>72.466040</td>\n",
       "      <td>21.068780</td>\n",
       "      <td>27.754251</td>\n",
       "      <td>32.285173</td>\n",
       "      <td>1403.118217</td>\n",
       "    </tr>\n",
       "    <tr>\n",
       "      <th>std</th>\n",
       "      <td>3183.686167</td>\n",
       "      <td>117.404834</td>\n",
       "      <td>129.05741</td>\n",
       "      <td>466.422621</td>\n",
       "      <td>14.860104</td>\n",
       "      <td>193.177339</td>\n",
       "      <td>5.116875</td>\n",
       "      <td>8306.041270</td>\n",
       "    </tr>\n",
       "    <tr>\n",
       "      <th>min</th>\n",
       "      <td>303.645417</td>\n",
       "      <td>-1.000000</td>\n",
       "      <td>0.00000</td>\n",
       "      <td>1.000000</td>\n",
       "      <td>-5.000000</td>\n",
       "      <td>0.000000</td>\n",
       "      <td>20.000000</td>\n",
       "      <td>0.000000</td>\n",
       "    </tr>\n",
       "    <tr>\n",
       "      <th>25%</th>\n",
       "      <td>1625.568229</td>\n",
       "      <td>3.000000</td>\n",
       "      <td>4.00000</td>\n",
       "      <td>8.000000</td>\n",
       "      <td>10.000000</td>\n",
       "      <td>3.000000</td>\n",
       "      <td>28.052567</td>\n",
       "      <td>30.306660</td>\n",
       "    </tr>\n",
       "    <tr>\n",
       "      <th>50%</th>\n",
       "      <td>3093.745000</td>\n",
       "      <td>6.000000</td>\n",
       "      <td>5.00000</td>\n",
       "      <td>13.000000</td>\n",
       "      <td>18.000000</td>\n",
       "      <td>6.000000</td>\n",
       "      <td>32.305784</td>\n",
       "      <td>69.249473</td>\n",
       "    </tr>\n",
       "    <tr>\n",
       "      <th>75%</th>\n",
       "      <td>5957.448333</td>\n",
       "      <td>7.000000</td>\n",
       "      <td>7.00000</td>\n",
       "      <td>20.000000</td>\n",
       "      <td>28.000000</td>\n",
       "      <td>9.000000</td>\n",
       "      <td>36.496663</td>\n",
       "      <td>161.224249</td>\n",
       "    </tr>\n",
       "    <tr>\n",
       "      <th>max</th>\n",
       "      <td>15204.633330</td>\n",
       "      <td>1798.000000</td>\n",
       "      <td>1499.00000</td>\n",
       "      <td>5797.000000</td>\n",
       "      <td>67.000000</td>\n",
       "      <td>2597.000000</td>\n",
       "      <td>50.000000</td>\n",
       "      <td>82331.000000</td>\n",
       "    </tr>\n",
       "  </tbody>\n",
       "</table>\n",
       "</div>"
      ],
      "text/plain": [
       "       Monthly_Inhand_Salary  Num_Bank_Accounts  Num_Credit_Card  \\\n",
       "count           84998.000000      100000.000000     100000.00000   \n",
       "mean             4194.170850          17.091280         22.47443   \n",
       "std              3183.686167         117.404834        129.05741   \n",
       "min               303.645417          -1.000000          0.00000   \n",
       "25%              1625.568229           3.000000          4.00000   \n",
       "50%              3093.745000           6.000000          5.00000   \n",
       "75%              5957.448333           7.000000          7.00000   \n",
       "max             15204.633330        1798.000000       1499.00000   \n",
       "\n",
       "       Interest_Rate  Delay_from_due_date  Num_Credit_Inquiries  \\\n",
       "count  100000.000000        100000.000000          98035.000000   \n",
       "mean       72.466040            21.068780             27.754251   \n",
       "std       466.422621            14.860104            193.177339   \n",
       "min         1.000000            -5.000000              0.000000   \n",
       "25%         8.000000            10.000000              3.000000   \n",
       "50%        13.000000            18.000000              6.000000   \n",
       "75%        20.000000            28.000000              9.000000   \n",
       "max      5797.000000            67.000000           2597.000000   \n",
       "\n",
       "       Credit_Utilization_Ratio  Total_EMI_per_month  \n",
       "count             100000.000000        100000.000000  \n",
       "mean                  32.285173          1403.118217  \n",
       "std                    5.116875          8306.041270  \n",
       "min                   20.000000             0.000000  \n",
       "25%                   28.052567            30.306660  \n",
       "50%                   32.305784            69.249473  \n",
       "75%                   36.496663           161.224249  \n",
       "max                   50.000000         82331.000000  "
      ]
     },
     "execution_count": 8,
     "metadata": {},
     "output_type": "execute_result"
    }
   ],
   "source": [
    "df.describe()"
   ]
  },
  {
   "cell_type": "markdown",
   "id": "b1909918-8541-4c4a-992d-4dcc092336e8",
   "metadata": {},
   "source": [
    "- In the numerical columns such as 'Num_Bank_Accounts', 'Interest_Rate', 'Num_Credit_Card' etc., the maximum values are way out of normal ranges for those columns. It clearly shows that there are some outliers."
   ]
  },
  {
   "cell_type": "code",
   "execution_count": 9,
   "id": "43c0f5b8-0303-491a-b945-cc0bfa68567a",
   "metadata": {},
   "outputs": [
    {
     "data": {
      "text/html": [
       "<div>\n",
       "<style scoped>\n",
       "    .dataframe tbody tr th:only-of-type {\n",
       "        vertical-align: middle;\n",
       "    }\n",
       "\n",
       "    .dataframe tbody tr th {\n",
       "        vertical-align: top;\n",
       "    }\n",
       "\n",
       "    .dataframe thead th {\n",
       "        text-align: right;\n",
       "    }\n",
       "</style>\n",
       "<table border=\"1\" class=\"dataframe\">\n",
       "  <thead>\n",
       "    <tr style=\"text-align: right;\">\n",
       "      <th></th>\n",
       "      <th>ID</th>\n",
       "      <th>Customer_ID</th>\n",
       "      <th>Month</th>\n",
       "      <th>Name</th>\n",
       "      <th>Age</th>\n",
       "      <th>SSN</th>\n",
       "      <th>Occupation</th>\n",
       "      <th>Annual_Income</th>\n",
       "      <th>Num_of_Loan</th>\n",
       "      <th>Type_of_Loan</th>\n",
       "      <th>Num_of_Delayed_Payment</th>\n",
       "      <th>Changed_Credit_Limit</th>\n",
       "      <th>Credit_Mix</th>\n",
       "      <th>Outstanding_Debt</th>\n",
       "      <th>Credit_History_Age</th>\n",
       "      <th>Payment_of_Min_Amount</th>\n",
       "      <th>Amount_invested_monthly</th>\n",
       "      <th>Payment_Behaviour</th>\n",
       "      <th>Monthly_Balance</th>\n",
       "    </tr>\n",
       "  </thead>\n",
       "  <tbody>\n",
       "    <tr>\n",
       "      <th>count</th>\n",
       "      <td>100000</td>\n",
       "      <td>100000</td>\n",
       "      <td>100000</td>\n",
       "      <td>90015</td>\n",
       "      <td>100000</td>\n",
       "      <td>100000</td>\n",
       "      <td>100000</td>\n",
       "      <td>100000</td>\n",
       "      <td>100000</td>\n",
       "      <td>88592</td>\n",
       "      <td>92998</td>\n",
       "      <td>100000</td>\n",
       "      <td>100000</td>\n",
       "      <td>100000</td>\n",
       "      <td>90970</td>\n",
       "      <td>100000</td>\n",
       "      <td>95521</td>\n",
       "      <td>100000</td>\n",
       "      <td>98800</td>\n",
       "    </tr>\n",
       "    <tr>\n",
       "      <th>unique</th>\n",
       "      <td>100000</td>\n",
       "      <td>12500</td>\n",
       "      <td>8</td>\n",
       "      <td>10139</td>\n",
       "      <td>1788</td>\n",
       "      <td>12501</td>\n",
       "      <td>16</td>\n",
       "      <td>18940</td>\n",
       "      <td>434</td>\n",
       "      <td>6260</td>\n",
       "      <td>749</td>\n",
       "      <td>3635</td>\n",
       "      <td>4</td>\n",
       "      <td>13178</td>\n",
       "      <td>404</td>\n",
       "      <td>3</td>\n",
       "      <td>91049</td>\n",
       "      <td>7</td>\n",
       "      <td>98790</td>\n",
       "    </tr>\n",
       "    <tr>\n",
       "      <th>top</th>\n",
       "      <td>0x25fd5</td>\n",
       "      <td>CUS_0x942c</td>\n",
       "      <td>January</td>\n",
       "      <td>Stevex</td>\n",
       "      <td>38</td>\n",
       "      <td>#F%$D@*&amp;8</td>\n",
       "      <td>_______</td>\n",
       "      <td>17273.83</td>\n",
       "      <td>3</td>\n",
       "      <td>Not Specified</td>\n",
       "      <td>19</td>\n",
       "      <td>_</td>\n",
       "      <td>Standard</td>\n",
       "      <td>1360.45</td>\n",
       "      <td>15 Years and 11 Months</td>\n",
       "      <td>Yes</td>\n",
       "      <td>__10000__</td>\n",
       "      <td>Low_spent_Small_value_payments</td>\n",
       "      <td>__-333333333333333333333333333__</td>\n",
       "    </tr>\n",
       "    <tr>\n",
       "      <th>freq</th>\n",
       "      <td>1</td>\n",
       "      <td>8</td>\n",
       "      <td>12500</td>\n",
       "      <td>44</td>\n",
       "      <td>2833</td>\n",
       "      <td>5572</td>\n",
       "      <td>7062</td>\n",
       "      <td>16</td>\n",
       "      <td>14386</td>\n",
       "      <td>1408</td>\n",
       "      <td>5327</td>\n",
       "      <td>2091</td>\n",
       "      <td>36479</td>\n",
       "      <td>24</td>\n",
       "      <td>446</td>\n",
       "      <td>52326</td>\n",
       "      <td>4305</td>\n",
       "      <td>25513</td>\n",
       "      <td>9</td>\n",
       "    </tr>\n",
       "  </tbody>\n",
       "</table>\n",
       "</div>"
      ],
      "text/plain": [
       "             ID Customer_ID    Month    Name     Age        SSN Occupation  \\\n",
       "count    100000      100000   100000   90015  100000     100000     100000   \n",
       "unique   100000       12500        8   10139    1788      12501         16   \n",
       "top     0x25fd5  CUS_0x942c  January  Stevex      38  #F%$D@*&8    _______   \n",
       "freq          1           8    12500      44    2833       5572       7062   \n",
       "\n",
       "       Annual_Income Num_of_Loan   Type_of_Loan Num_of_Delayed_Payment  \\\n",
       "count         100000      100000          88592                  92998   \n",
       "unique         18940         434           6260                    749   \n",
       "top         17273.83           3  Not Specified                     19   \n",
       "freq              16       14386           1408                   5327   \n",
       "\n",
       "       Changed_Credit_Limit Credit_Mix Outstanding_Debt  \\\n",
       "count                100000     100000           100000   \n",
       "unique                 3635          4            13178   \n",
       "top                       _   Standard          1360.45   \n",
       "freq                   2091      36479               24   \n",
       "\n",
       "            Credit_History_Age Payment_of_Min_Amount Amount_invested_monthly  \\\n",
       "count                    90970                100000                   95521   \n",
       "unique                     404                     3                   91049   \n",
       "top     15 Years and 11 Months                   Yes               __10000__   \n",
       "freq                       446                 52326                    4305   \n",
       "\n",
       "                     Payment_Behaviour                   Monthly_Balance  \n",
       "count                           100000                             98800  \n",
       "unique                               7                             98790  \n",
       "top     Low_spent_Small_value_payments  __-333333333333333333333333333__  \n",
       "freq                             25513                                 9  "
      ]
     },
     "execution_count": 9,
     "metadata": {},
     "output_type": "execute_result"
    }
   ],
   "source": [
    "df.describe(include = 'object')"
   ]
  },
  {
   "cell_type": "markdown",
   "id": "e1110ad5-7ca5-49c0-8fef-5dd30629d31d",
   "metadata": {},
   "source": [
    "**Observations:**\n",
    "- There are 12500 unique customer IDs indicating that the data is of 12500 customers.\n",
    "- There are only 8 different months. Need to analyze the data to find what's missing.\n",
    "- There are 1788 unique age values which is not possible.\n",
    "- There are 12501 Social Security Numbers for 12500 customers, which is not possible as there cannot be multiple SSN for a single citizen. And also the most frequent SSN is a random value.\n",
    "- There are some special charachters in some columns which should be of a number. Need to clean those columns."
   ]
  },
  {
   "cell_type": "markdown",
   "id": "9988cec5-cd1b-4662-8018-3d2e487a134b",
   "metadata": {},
   "source": [
    "### Data Cleaning and Processing: Missing values, inconsistent values and outliers"
   ]
  },
  {
   "cell_type": "code",
   "execution_count": 10,
   "id": "7a003584-1eb5-4706-954b-9f12fb5b8da5",
   "metadata": {},
   "outputs": [
    {
     "data": {
      "text/plain": [
       "ID                              0\n",
       "Customer_ID                     0\n",
       "Month                           0\n",
       "Name                         9985\n",
       "Age                             0\n",
       "SSN                             0\n",
       "Occupation                      0\n",
       "Annual_Income                   0\n",
       "Monthly_Inhand_Salary       15002\n",
       "Num_Bank_Accounts               0\n",
       "Num_Credit_Card                 0\n",
       "Interest_Rate                   0\n",
       "Num_of_Loan                     0\n",
       "Type_of_Loan                11408\n",
       "Delay_from_due_date             0\n",
       "Num_of_Delayed_Payment       7002\n",
       "Changed_Credit_Limit            0\n",
       "Num_Credit_Inquiries         1965\n",
       "Credit_Mix                      0\n",
       "Outstanding_Debt                0\n",
       "Credit_Utilization_Ratio        0\n",
       "Credit_History_Age           9030\n",
       "Payment_of_Min_Amount           0\n",
       "Total_EMI_per_month             0\n",
       "Amount_invested_monthly      4479\n",
       "Payment_Behaviour               0\n",
       "Monthly_Balance              1200\n",
       "dtype: int64"
      ]
     },
     "execution_count": 10,
     "metadata": {},
     "output_type": "execute_result"
    }
   ],
   "source": [
    "df.isnull().sum()"
   ]
  },
  {
   "cell_type": "markdown",
   "id": "06559553-ce5b-4a50-9729-071eb1679a5d",
   "metadata": {},
   "source": [
    "#### 'Name' and 'Monthly_Inhand_Salary'"
   ]
  },
  {
   "cell_type": "markdown",
   "id": "a11829e5-6094-4612-a305-4ff8ae24c172",
   "metadata": {},
   "source": [
    "Let's fill the null values in 'Name' and 'Monthly_Inhand_Salary' columns using those values from same customer_id's."
   ]
  },
  {
   "cell_type": "code",
   "execution_count": 11,
   "id": "9e094363-6c6b-4fdc-9dfd-52e6556679e9",
   "metadata": {},
   "outputs": [],
   "source": [
    "df.sort_values(by=['Customer_ID', 'Month'], inplace=True)\n",
    "df['Name'] = df.groupby('Customer_ID')['Name'].fillna(method='ffill').fillna(method='bfill')"
   ]
  },
  {
   "cell_type": "code",
   "execution_count": 12,
   "id": "1fef66d8-cc1f-480e-9fe6-f2ae51ffc4a5",
   "metadata": {},
   "outputs": [],
   "source": [
    "df['Monthly_Inhand_Salary'] = df.groupby('Customer_ID')['Monthly_Inhand_Salary'].fillna(method='ffill').fillna(method='bfill')"
   ]
  },
  {
   "cell_type": "code",
   "execution_count": 13,
   "id": "363e7068-d09b-4e2c-b53a-04ee8c5df54c",
   "metadata": {},
   "outputs": [
    {
     "data": {
      "image/png": "[encoded data removed]",
      "text/plain": [
       "<Figure size 500x500 with 1 Axes>"
      ]
     },
     "metadata": {},
     "output_type": "display_data"
    }
   ],
   "source": [
    "sns.displot(data=df, x=df['Monthly_Inhand_Salary'], kde=True, bins=40)\n",
    "plt.xlabel('Monthly_Inhand_Salary')\n",
    "plt.ylabel('Number of Records')\n",
    "plt.title('Monthly_Inhand_Salary Distribution')\n",
    "plt.xticks(rotation=0)\n",
    "plt.show()"
   ]
  },
  {
   "cell_type": "code",
   "execution_count": 14,
   "id": "f203137c-f03c-4035-beda-2203ad806af0",
   "metadata": {},
   "outputs": [
    {
     "data": {
      "text/plain": [
       "Month\n",
       "April       12500\n",
       "August      12500\n",
       "February    12500\n",
       "January     12500\n",
       "July        12500\n",
       "June        12500\n",
       "March       12500\n",
       "May         12500\n",
       "Name: count, dtype: int64"
      ]
     },
     "execution_count": 14,
     "metadata": {},
     "output_type": "execute_result"
    }
   ],
   "source": [
    "df['Month'].value_counts()"
   ]
  },
  {
   "cell_type": "markdown",
   "id": "f74a6176-f27c-4870-9570-24e446030940",
   "metadata": {},
   "source": [
    "- There is no data in the months of September - December."
   ]
  },
  {
   "cell_type": "markdown",
   "id": "7729f28f-ca79-476f-b713-872cfc693034",
   "metadata": {},
   "source": [
    "#### Feature: Age"
   ]
  },
  {
   "cell_type": "code",
   "execution_count": 15,
   "id": "332ad524-84cf-4f9d-8a6a-d8b8e2dea99a",
   "metadata": {},
   "outputs": [
    {
     "name": "stdout",
     "output_type": "stream",
     "text": [
      "Special characters in the 'Age' column: {'-', '_'}\n"
     ]
    }
   ],
   "source": [
    "# Finding all special characters in the Age column\n",
    "special_characters = set()\n",
    "\n",
    "for value in df['Age']:\n",
    "    for char in value:\n",
    "        if not char.isdigit():\n",
    "            special_characters.add(char)\n",
    "\n",
    "print(\"Special characters in the 'Age' column:\", special_characters)"
   ]
  },
  {
   "cell_type": "code",
   "execution_count": 16,
   "id": "d3312e3d-aa51-4a17-b624-f5d1aef86a5f",
   "metadata": {},
   "outputs": [],
   "source": [
    "# Let's remove these special characters from the Age column\n",
    "df['Age'] = df['Age'].str.replace(r'[_-]', '', regex=True)"
   ]
  },
  {
   "cell_type": "code",
   "execution_count": 17,
   "id": "8c083680-bea9-4cc6-bba6-8fbb1bcc81cd",
   "metadata": {},
   "outputs": [],
   "source": [
    "# Convert the datatype of the column to int and remove the values that are less than 0 and greater than 120\n",
    "df['Age'] = df['Age'].astype(int)\n",
    "df['Age'] = df['Age'].where((df['Age'] >= 0) & (df['Age'] <= 120), pd.NA)"
   ]
  },
  {
   "cell_type": "code",
   "execution_count": 18,
   "id": "45f19590-4e1a-4a1a-ae9f-c15ac23adf22",
   "metadata": {},
   "outputs": [],
   "source": [
    "df['Age'] = df.groupby('Customer_ID')['Age'].transform(lambda x: x.fillna(x.mode().iloc[0] if not x.mode().empty else pd.NA))"
   ]
  },
  {
   "cell_type": "code",
   "execution_count": 19,
   "id": "13a375c3-ccd6-4f44-bd34-dbb45adcdf33",
   "metadata": {
    "scrolled": true
   },
   "outputs": [
    {
     "data": {
      "text/plain": [
       "Age\n",
       "38.0     3071\n",
       "28.0     3048\n",
       "31.0     3035\n",
       "26.0     3031\n",
       "32.0     2966\n",
       "36.0     2956\n",
       "25.0     2954\n",
       "27.0     2944\n",
       "35.0     2937\n",
       "39.0     2931\n",
       "34.0     2918\n",
       "44.0     2896\n",
       "22.0     2892\n",
       "19.0     2864\n",
       "41.0     2861\n",
       "20.0     2839\n",
       "37.0     2832\n",
       "29.0     2820\n",
       "43.0     2813\n",
       "30.0     2810\n",
       "21.0     2789\n",
       "24.0     2780\n",
       "23.0     2726\n",
       "45.0     2713\n",
       "40.0     2690\n",
       "42.0     2647\n",
       "33.0     2624\n",
       "18.0     2433\n",
       "46.0     1672\n",
       "15.0     1613\n",
       "17.0     1553\n",
       "16.0     1504\n",
       "48.0     1424\n",
       "49.0     1412\n",
       "55.0     1398\n",
       "53.0     1396\n",
       "52.0     1387\n",
       "54.0     1339\n",
       "51.0     1331\n",
       "50.0     1305\n",
       "47.0     1254\n",
       "14.0     1209\n",
       "56.0      372\n",
       "95.0        3\n",
       "118.0       1\n",
       "115.0       1\n",
       "100.0       1\n",
       "102.0       1\n",
       "111.0       1\n",
       "109.0       1\n",
       "112.0       1\n",
       "99.0        1\n",
       "Name: count, dtype: int64"
      ]
     },
     "execution_count": 19,
     "metadata": {},
     "output_type": "execute_result"
    }
   ],
   "source": [
    "df['Age'].value_counts()"
   ]
  },
  {
   "cell_type": "code",
   "execution_count": 20,
   "id": "efe81f79-cd97-45d8-a91a-1681b7cc2854",
   "metadata": {},
   "outputs": [],
   "source": [
    "# Filtering the Ages that seem odd\n",
    "df_filtered = df[df['Age'].isin([95, 118, 115, 100, 102, 111, 109, 112, 99])]"
   ]
  },
  {
   "cell_type": "code",
   "execution_count": 21,
   "id": "4f296361-2f30-4e13-b836-304500b8a002",
   "metadata": {
    "scrolled": true
   },
   "outputs": [
    {
     "data": {
      "text/html": [
       "<div>\n",
       "<style scoped>\n",
       "    .dataframe tbody tr th:only-of-type {\n",
       "        vertical-align: middle;\n",
       "    }\n",
       "\n",
       "    .dataframe tbody tr th {\n",
       "        vertical-align: top;\n",
       "    }\n",
       "\n",
       "    .dataframe thead th {\n",
       "        text-align: right;\n",
       "    }\n",
       "</style>\n",
       "<table border=\"1\" class=\"dataframe\">\n",
       "  <thead>\n",
       "    <tr style=\"text-align: right;\">\n",
       "      <th></th>\n",
       "      <th>ID</th>\n",
       "      <th>Customer_ID</th>\n",
       "      <th>Month</th>\n",
       "      <th>Name</th>\n",
       "      <th>Age</th>\n",
       "      <th>SSN</th>\n",
       "      <th>Occupation</th>\n",
       "      <th>Annual_Income</th>\n",
       "      <th>Monthly_Inhand_Salary</th>\n",
       "      <th>Num_Bank_Accounts</th>\n",
       "      <th>Num_Credit_Card</th>\n",
       "      <th>Interest_Rate</th>\n",
       "      <th>Num_of_Loan</th>\n",
       "      <th>Type_of_Loan</th>\n",
       "      <th>Delay_from_due_date</th>\n",
       "      <th>Num_of_Delayed_Payment</th>\n",
       "      <th>Changed_Credit_Limit</th>\n",
       "      <th>Num_Credit_Inquiries</th>\n",
       "      <th>Credit_Mix</th>\n",
       "      <th>Outstanding_Debt</th>\n",
       "      <th>Credit_Utilization_Ratio</th>\n",
       "      <th>Credit_History_Age</th>\n",
       "      <th>Payment_of_Min_Amount</th>\n",
       "      <th>Total_EMI_per_month</th>\n",
       "      <th>Amount_invested_monthly</th>\n",
       "      <th>Payment_Behaviour</th>\n",
       "      <th>Monthly_Balance</th>\n",
       "    </tr>\n",
       "  </thead>\n",
       "  <tbody>\n",
       "    <tr>\n",
       "      <th>23230</th>\n",
       "      <td>0x9e1c</td>\n",
       "      <td>CUS_0x1647</td>\n",
       "      <td>July</td>\n",
       "      <td>Caroline Valetkevitchb</td>\n",
       "      <td>118.0</td>\n",
       "      <td>747-79-7877</td>\n",
       "      <td>Lawyer</td>\n",
       "      <td>28608.65</td>\n",
       "      <td>2490.054167</td>\n",
       "      <td>4</td>\n",
       "      <td>7</td>\n",
       "      <td>12</td>\n",
       "      <td>1_</td>\n",
       "      <td>Personal Loan</td>\n",
       "      <td>2</td>\n",
       "      <td>11</td>\n",
       "      <td>5.68</td>\n",
       "      <td>4.0</td>\n",
       "      <td>Good</td>\n",
       "      <td>143.04</td>\n",
       "      <td>35.532501</td>\n",
       "      <td>NaN</td>\n",
       "      <td>No</td>\n",
       "      <td>23.008446</td>\n",
       "      <td>65.5940138</td>\n",
       "      <td>High_spent_Medium_value_payments</td>\n",
       "      <td>410.4029567</td>\n",
       "    </tr>\n",
       "    <tr>\n",
       "      <th>78564</th>\n",
       "      <td>0x1e256</td>\n",
       "      <td>CUS_0x1dd3</td>\n",
       "      <td>May</td>\n",
       "      <td>Gerryg</td>\n",
       "      <td>95.0</td>\n",
       "      <td>936-83-6588</td>\n",
       "      <td>Manager</td>\n",
       "      <td>68484.44</td>\n",
       "      <td>5684.036667</td>\n",
       "      <td>5</td>\n",
       "      <td>7</td>\n",
       "      <td>5</td>\n",
       "      <td>5</td>\n",
       "      <td>Home Equity Loan, Credit-Builder Loan, Persona...</td>\n",
       "      <td>12</td>\n",
       "      <td>20</td>\n",
       "      <td>12.52</td>\n",
       "      <td>8.0</td>\n",
       "      <td>Standard</td>\n",
       "      <td>105.41</td>\n",
       "      <td>28.430067</td>\n",
       "      <td>12 Years and 5 Months</td>\n",
       "      <td>NM</td>\n",
       "      <td>225.535667</td>\n",
       "      <td>220.0008064</td>\n",
       "      <td>High_spent_Small_value_payments</td>\n",
       "      <td>382.867193</td>\n",
       "    </tr>\n",
       "    <tr>\n",
       "      <th>81398</th>\n",
       "      <td>0x1f2f0</td>\n",
       "      <td>CUS_0x21ac</td>\n",
       "      <td>July</td>\n",
       "      <td>Ermanz</td>\n",
       "      <td>115.0</td>\n",
       "      <td>333-78-2654</td>\n",
       "      <td>Developer</td>\n",
       "      <td>55593.99</td>\n",
       "      <td>4874.832500</td>\n",
       "      <td>7</td>\n",
       "      <td>6</td>\n",
       "      <td>30</td>\n",
       "      <td>6</td>\n",
       "      <td>Home Equity Loan, Payday Loan, Home Equity Loa...</td>\n",
       "      <td>18</td>\n",
       "      <td>20</td>\n",
       "      <td>16.09</td>\n",
       "      <td>11.0</td>\n",
       "      <td>Standard</td>\n",
       "      <td>1314.25</td>\n",
       "      <td>28.031205</td>\n",
       "      <td>18 Years and 5 Months</td>\n",
       "      <td>Yes</td>\n",
       "      <td>269.033234</td>\n",
       "      <td>248.5553232</td>\n",
       "      <td>High_spent_Small_value_payments</td>\n",
       "      <td>229.894693</td>\n",
       "    </tr>\n",
       "    <tr>\n",
       "      <th>29316</th>\n",
       "      <td>0xc1c6</td>\n",
       "      <td>CUS_0x3b9a</td>\n",
       "      <td>May</td>\n",
       "      <td>Seetharamanw</td>\n",
       "      <td>100.0</td>\n",
       "      <td>983-37-5040</td>\n",
       "      <td>Doctor</td>\n",
       "      <td>30819.56</td>\n",
       "      <td>2547.296667</td>\n",
       "      <td>7</td>\n",
       "      <td>3</td>\n",
       "      <td>9</td>\n",
       "      <td>4</td>\n",
       "      <td>Payday Loan, Student Loan, Not Specified, and ...</td>\n",
       "      <td>8</td>\n",
       "      <td>775</td>\n",
       "      <td>7.68</td>\n",
       "      <td>5.0</td>\n",
       "      <td>Standard</td>\n",
       "      <td>401.26</td>\n",
       "      <td>39.025723</td>\n",
       "      <td>14 Years and 5 Months</td>\n",
       "      <td>Yes</td>\n",
       "      <td>96.848591</td>\n",
       "      <td>28.76608943</td>\n",
       "      <td>High_spent_Large_value_payments</td>\n",
       "      <td>369.1149863</td>\n",
       "    </tr>\n",
       "    <tr>\n",
       "      <th>31288</th>\n",
       "      <td>0xcd56</td>\n",
       "      <td>CUS_0x4b64</td>\n",
       "      <td>January</td>\n",
       "      <td>Luke Bakerg</td>\n",
       "      <td>102.0</td>\n",
       "      <td>478-55-2676</td>\n",
       "      <td>Musician</td>\n",
       "      <td>38460.28</td>\n",
       "      <td>3241.023333</td>\n",
       "      <td>6</td>\n",
       "      <td>9</td>\n",
       "      <td>16</td>\n",
       "      <td>7</td>\n",
       "      <td>Personal Loan, Personal Loan, Home Equity Loan...</td>\n",
       "      <td>56</td>\n",
       "      <td>16</td>\n",
       "      <td>20.71</td>\n",
       "      <td>11.0</td>\n",
       "      <td>Bad</td>\n",
       "      <td>4106.5</td>\n",
       "      <td>26.537577</td>\n",
       "      <td>6 Years and 1 Months</td>\n",
       "      <td>Yes</td>\n",
       "      <td>179.135821</td>\n",
       "      <td>267.3365048</td>\n",
       "      <td>Low_spent_Medium_value_payments</td>\n",
       "      <td>157.6300073</td>\n",
       "    </tr>\n",
       "  </tbody>\n",
       "</table>\n",
       "</div>"
      ],
      "text/plain": [
       "            ID Customer_ID    Month                    Name    Age  \\\n",
       "23230   0x9e1c  CUS_0x1647     July  Caroline Valetkevitchb  118.0   \n",
       "78564  0x1e256  CUS_0x1dd3      May                  Gerryg   95.0   \n",
       "81398  0x1f2f0  CUS_0x21ac     July                  Ermanz  115.0   \n",
       "29316   0xc1c6  CUS_0x3b9a      May            Seetharamanw  100.0   \n",
       "31288   0xcd56  CUS_0x4b64  January             Luke Bakerg  102.0   \n",
       "\n",
       "               SSN Occupation Annual_Income  Monthly_Inhand_Salary  \\\n",
       "23230  747-79-7877     Lawyer      28608.65            2490.054167   \n",
       "78564  936-83-6588    Manager      68484.44            5684.036667   \n",
       "81398  333-78-2654  Developer      55593.99            4874.832500   \n",
       "29316  983-37-5040     Doctor      30819.56            2547.296667   \n",
       "31288  478-55-2676   Musician      38460.28            3241.023333   \n",
       "\n",
       "       Num_Bank_Accounts  Num_Credit_Card  Interest_Rate Num_of_Loan  \\\n",
       "23230                  4                7             12          1_   \n",
       "78564                  5                7              5           5   \n",
       "81398                  7                6             30           6   \n",
       "29316                  7                3              9           4   \n",
       "31288                  6                9             16           7   \n",
       "\n",
       "                                            Type_of_Loan  Delay_from_due_date  \\\n",
       "23230                                      Personal Loan                    2   \n",
       "78564  Home Equity Loan, Credit-Builder Loan, Persona...                   12   \n",
       "81398  Home Equity Loan, Payday Loan, Home Equity Loa...                   18   \n",
       "29316  Payday Loan, Student Loan, Not Specified, and ...                    8   \n",
       "31288  Personal Loan, Personal Loan, Home Equity Loan...                   56   \n",
       "\n",
       "      Num_of_Delayed_Payment Changed_Credit_Limit  Num_Credit_Inquiries  \\\n",
       "23230                     11                 5.68                   4.0   \n",
       "78564                     20                12.52                   8.0   \n",
       "81398                     20                16.09                  11.0   \n",
       "29316                    775                 7.68                   5.0   \n",
       "31288                     16                20.71                  11.0   \n",
       "\n",
       "      Credit_Mix Outstanding_Debt  Credit_Utilization_Ratio  \\\n",
       "23230       Good           143.04                 35.532501   \n",
       "78564   Standard           105.41                 28.430067   \n",
       "81398   Standard          1314.25                 28.031205   \n",
       "29316   Standard           401.26                 39.025723   \n",
       "31288        Bad           4106.5                 26.537577   \n",
       "\n",
       "          Credit_History_Age Payment_of_Min_Amount  Total_EMI_per_month  \\\n",
       "23230                    NaN                    No            23.008446   \n",
       "78564  12 Years and 5 Months                    NM           225.535667   \n",
       "81398  18 Years and 5 Months                   Yes           269.033234   \n",
       "29316  14 Years and 5 Months                   Yes            96.848591   \n",
       "31288   6 Years and 1 Months                   Yes           179.135821   \n",
       "\n",
       "      Amount_invested_monthly                 Payment_Behaviour  \\\n",
       "23230              65.5940138  High_spent_Medium_value_payments   \n",
       "78564             220.0008064   High_spent_Small_value_payments   \n",
       "81398             248.5553232   High_spent_Small_value_payments   \n",
       "29316             28.76608943   High_spent_Large_value_payments   \n",
       "31288             267.3365048   Low_spent_Medium_value_payments   \n",
       "\n",
       "      Monthly_Balance  \n",
       "23230     410.4029567  \n",
       "78564      382.867193  \n",
       "81398      229.894693  \n",
       "29316     369.1149863  \n",
       "31288     157.6300073  "
      ]
     },
     "execution_count": 21,
     "metadata": {},
     "output_type": "execute_result"
    }
   ],
   "source": [
    "df_filtered.head()"
   ]
  },
  {
   "cell_type": "markdown",
   "id": "42e475ba-6d59-498f-bf5f-1362bd38cbb4",
   "metadata": {},
   "source": [
    "I examined the customer IDs with these higher ages and found that each customer ID has a different age in all its rows except for this outlier. Therefore, these outliers can be replaced with the mode values of their respective customer IDs.\n",
    "All these are maximum values of those particular customer ages. So let's remove the max values using mode values."
   ]
  },
  {
   "cell_type": "code",
   "execution_count": 22,
   "id": "422b5f1c-ab29-47dd-a018-a7322293b995",
   "metadata": {},
   "outputs": [],
   "source": [
    "df['Age'] = df.groupby('Customer_ID')['Age'].transform(lambda x: x.replace(x.max(),x.mode().iloc[0]))"
   ]
  },
  {
   "cell_type": "code",
   "execution_count": 23,
   "id": "df3ff1c8-caa6-4223-83c7-5bb5e9d78829",
   "metadata": {},
   "outputs": [
    {
     "data": {
      "image/png": "[encoded data removed]",
      "text/plain": [
       "<Figure size 500x500 with 1 Axes>"
      ]
     },
     "metadata": {},
     "output_type": "display_data"
    }
   ],
   "source": [
    "sns.displot(data=df, x=df['Age'], kde=True, bins=20)\n",
    "plt.xlabel('Age')\n",
    "plt.ylabel('Number of Records')\n",
    "plt.title('Age Distribution')\n",
    "plt.xticks(rotation=0)\n",
    "plt.show()"
   ]
  },
  {
   "cell_type": "markdown",
   "id": "feaeeb46-5cd8-4d9d-8753-9bb5d0bcd8b0",
   "metadata": {},
   "source": [
    "#### Feature: SSN(Social Security Number)"
   ]
  },
  {
   "cell_type": "markdown",
   "id": "f142bad3-abbf-4f7d-b3fa-994c35ed380e",
   "metadata": {},
   "source": [
    "In SSN column a random value ('#F%$D@*&8') is repeated for 5572 rows. Let's replace those values with that of same customer IDs. "
   ]
  },
  {
   "cell_type": "code",
   "execution_count": 24,
   "id": "1c7a2571-e8da-4a5e-8eeb-536fb4ea50f2",
   "metadata": {},
   "outputs": [],
   "source": [
    "df['SSN'] = df['SSN'].str.replace('_', '')"
   ]
  },
  {
   "cell_type": "code",
   "execution_count": 25,
   "id": "092a49ee-d275-4003-bd76-c31f35302d7d",
   "metadata": {},
   "outputs": [],
   "source": [
    "def replace_ssn(series):\n",
    "    # Identify the actual SSN that is not the placeholder\n",
    "    actual_ssn = series['SSN'][series['SSN'] != '#F%$D@*&8'].iloc[0]\n",
    "    \n",
    "    # Replace the placeholder SSN with the actual SSN\n",
    "    series['SSN'] = series['SSN'].replace('#F%$D@*&8', actual_ssn)\n",
    "    \n",
    "    return series"
   ]
  },
  {
   "cell_type": "code",
   "execution_count": 26,
   "id": "2e574679-8864-4ae2-be4c-eae6cd78ddbd",
   "metadata": {},
   "outputs": [],
   "source": [
    "df= df.groupby('Customer_ID').apply(replace_ssn).reset_index(drop=True)"
   ]
  },
  {
   "cell_type": "markdown",
   "id": "39ef5148-2e89-4f9d-9c8b-75d9726d3509",
   "metadata": {},
   "source": [
    "#### Feature: Occupation"
   ]
  },
  {
   "cell_type": "code",
   "execution_count": 27,
   "id": "6e1e917b-b707-44dc-b21f-7f6b839ee9de",
   "metadata": {},
   "outputs": [
    {
     "data": {
      "text/plain": [
       "Occupation\n",
       "_______          7062\n",
       "Lawyer           6575\n",
       "Architect        6355\n",
       "Engineer         6350\n",
       "Scientist        6299\n",
       "Mechanic         6291\n",
       "Accountant       6271\n",
       "Developer        6235\n",
       "Media_Manager    6232\n",
       "Teacher          6215\n",
       "Entrepreneur     6174\n",
       "Doctor           6087\n",
       "Journalist       6085\n",
       "Manager          5973\n",
       "Musician         5911\n",
       "Writer           5885\n",
       "Name: count, dtype: int64"
      ]
     },
     "execution_count": 27,
     "metadata": {},
     "output_type": "execute_result"
    }
   ],
   "source": [
    "df['Occupation'].value_counts()"
   ]
  },
  {
   "cell_type": "code",
   "execution_count": 28,
   "id": "cae36920-6f12-491d-ab94-6ef0f40eebed",
   "metadata": {},
   "outputs": [],
   "source": [
    "# Function to replace blank occupations with mode of the group\n",
    "def replace_blank_occupation(series):\n",
    "    # Calculate the mode of the Occupation within the group\n",
    "    occupation_mode = series['Occupation'][series['Occupation'] != '_______'].mode().iloc[0]\n",
    "    \n",
    "    # Replace blank occupation with the mode\n",
    "    series['Occupation'] = series['Occupation'].replace('_______', occupation_mode)\n",
    "    \n",
    "    return series\n",
    "\n",
    "# Apply the function to each Customer_ID group\n",
    "df = df.groupby('Customer_ID').apply(replace_blank_occupation).reset_index(drop=True)"
   ]
  },
  {
   "cell_type": "code",
   "execution_count": 29,
   "id": "d1fb80db-0e03-4b2c-920c-87f8b4e7ee90",
   "metadata": {},
   "outputs": [
    {
     "data": {
      "text/html": [
       "<div>\n",
       "<style scoped>\n",
       "    .dataframe tbody tr th:only-of-type {\n",
       "        vertical-align: middle;\n",
       "    }\n",
       "\n",
       "    .dataframe tbody tr th {\n",
       "        vertical-align: top;\n",
       "    }\n",
       "\n",
       "    .dataframe thead th {\n",
       "        text-align: right;\n",
       "    }\n",
       "</style>\n",
       "<table border=\"1\" class=\"dataframe\">\n",
       "  <thead>\n",
       "    <tr style=\"text-align: right;\">\n",
       "      <th></th>\n",
       "      <th>ID</th>\n",
       "      <th>Customer_ID</th>\n",
       "      <th>Month</th>\n",
       "      <th>Name</th>\n",
       "      <th>SSN</th>\n",
       "      <th>Occupation</th>\n",
       "      <th>Annual_Income</th>\n",
       "      <th>Num_of_Loan</th>\n",
       "      <th>Type_of_Loan</th>\n",
       "      <th>Num_of_Delayed_Payment</th>\n",
       "      <th>Changed_Credit_Limit</th>\n",
       "      <th>Credit_Mix</th>\n",
       "      <th>Outstanding_Debt</th>\n",
       "      <th>Credit_History_Age</th>\n",
       "      <th>Payment_of_Min_Amount</th>\n",
       "      <th>Amount_invested_monthly</th>\n",
       "      <th>Payment_Behaviour</th>\n",
       "      <th>Monthly_Balance</th>\n",
       "    </tr>\n",
       "  </thead>\n",
       "  <tbody>\n",
       "    <tr>\n",
       "      <th>count</th>\n",
       "      <td>100000</td>\n",
       "      <td>100000</td>\n",
       "      <td>100000</td>\n",
       "      <td>100000</td>\n",
       "      <td>100000</td>\n",
       "      <td>100000</td>\n",
       "      <td>100000</td>\n",
       "      <td>100000</td>\n",
       "      <td>88592</td>\n",
       "      <td>92998</td>\n",
       "      <td>100000</td>\n",
       "      <td>100000</td>\n",
       "      <td>100000</td>\n",
       "      <td>90970</td>\n",
       "      <td>100000</td>\n",
       "      <td>95521</td>\n",
       "      <td>100000</td>\n",
       "      <td>98800</td>\n",
       "    </tr>\n",
       "    <tr>\n",
       "      <th>unique</th>\n",
       "      <td>100000</td>\n",
       "      <td>12500</td>\n",
       "      <td>8</td>\n",
       "      <td>10139</td>\n",
       "      <td>12500</td>\n",
       "      <td>15</td>\n",
       "      <td>18940</td>\n",
       "      <td>434</td>\n",
       "      <td>6260</td>\n",
       "      <td>749</td>\n",
       "      <td>3635</td>\n",
       "      <td>4</td>\n",
       "      <td>13178</td>\n",
       "      <td>404</td>\n",
       "      <td>3</td>\n",
       "      <td>91049</td>\n",
       "      <td>7</td>\n",
       "      <td>98790</td>\n",
       "    </tr>\n",
       "    <tr>\n",
       "      <th>top</th>\n",
       "      <td>0xfaba</td>\n",
       "      <td>CUS_0xffd</td>\n",
       "      <td>April</td>\n",
       "      <td>Langep</td>\n",
       "      <td>832-88-8320</td>\n",
       "      <td>Lawyer</td>\n",
       "      <td>17273.83</td>\n",
       "      <td>3</td>\n",
       "      <td>Not Specified</td>\n",
       "      <td>19</td>\n",
       "      <td>_</td>\n",
       "      <td>Standard</td>\n",
       "      <td>1360.45</td>\n",
       "      <td>15 Years and 11 Months</td>\n",
       "      <td>Yes</td>\n",
       "      <td>__10000__</td>\n",
       "      <td>Low_spent_Small_value_payments</td>\n",
       "      <td>__-333333333333333333333333333__</td>\n",
       "    </tr>\n",
       "    <tr>\n",
       "      <th>freq</th>\n",
       "      <td>1</td>\n",
       "      <td>8</td>\n",
       "      <td>12500</td>\n",
       "      <td>48</td>\n",
       "      <td>8</td>\n",
       "      <td>7096</td>\n",
       "      <td>16</td>\n",
       "      <td>14386</td>\n",
       "      <td>1408</td>\n",
       "      <td>5327</td>\n",
       "      <td>2091</td>\n",
       "      <td>36479</td>\n",
       "      <td>24</td>\n",
       "      <td>446</td>\n",
       "      <td>52326</td>\n",
       "      <td>4305</td>\n",
       "      <td>25513</td>\n",
       "      <td>9</td>\n",
       "    </tr>\n",
       "  </tbody>\n",
       "</table>\n",
       "</div>"
      ],
      "text/plain": [
       "            ID Customer_ID   Month    Name          SSN Occupation  \\\n",
       "count   100000      100000  100000  100000       100000     100000   \n",
       "unique  100000       12500       8   10139        12500         15   \n",
       "top     0xfaba   CUS_0xffd   April  Langep  832-88-8320     Lawyer   \n",
       "freq         1           8   12500      48            8       7096   \n",
       "\n",
       "       Annual_Income Num_of_Loan   Type_of_Loan Num_of_Delayed_Payment  \\\n",
       "count         100000      100000          88592                  92998   \n",
       "unique         18940         434           6260                    749   \n",
       "top         17273.83           3  Not Specified                     19   \n",
       "freq              16       14386           1408                   5327   \n",
       "\n",
       "       Changed_Credit_Limit Credit_Mix Outstanding_Debt  \\\n",
       "count                100000     100000           100000   \n",
       "unique                 3635          4            13178   \n",
       "top                       _   Standard          1360.45   \n",
       "freq                   2091      36479               24   \n",
       "\n",
       "            Credit_History_Age Payment_of_Min_Amount Amount_invested_monthly  \\\n",
       "count                    90970                100000                   95521   \n",
       "unique                     404                     3                   91049   \n",
       "top     15 Years and 11 Months                   Yes               __10000__   \n",
       "freq                       446                 52326                    4305   \n",
       "\n",
       "                     Payment_Behaviour                   Monthly_Balance  \n",
       "count                           100000                             98800  \n",
       "unique                               7                             98790  \n",
       "top     Low_spent_Small_value_payments  __-333333333333333333333333333__  \n",
       "freq                             25513                                 9  "
      ]
     },
     "execution_count": 29,
     "metadata": {},
     "output_type": "execute_result"
    }
   ],
   "source": [
    "df.describe(include = 'object')"
   ]
  },
  {
   "cell_type": "markdown",
   "id": "7f7f1864-eb3f-4c35-81d0-c128360b98ac",
   "metadata": {},
   "source": [
    "#### Feature: Annual_Income"
   ]
  },
  {
   "cell_type": "code",
   "execution_count": 30,
   "id": "a852ae87-f2bb-4bfb-b5cd-7c0a06c6f590",
   "metadata": {},
   "outputs": [
    {
     "data": {
      "text/plain": [
       "np.int64(0)"
      ]
     },
     "execution_count": 30,
     "metadata": {},
     "output_type": "execute_result"
    }
   ],
   "source": [
    "df['Annual_Income'].isnull().sum()"
   ]
  },
  {
   "cell_type": "markdown",
   "id": "20e03701-c348-42be-8012-662c31b70f7f",
   "metadata": {},
   "source": [
    "There are no null values in the Annual_Income column."
   ]
  },
  {
   "cell_type": "code",
   "execution_count": 31,
   "id": "b7113cf7-f294-4740-ac7b-a7a2db73d18d",
   "metadata": {},
   "outputs": [
    {
     "name": "stdout",
     "output_type": "stream",
     "text": [
      "Special characters in the 'Annual_Income' column: {'.', '_'}\n"
     ]
    }
   ],
   "source": [
    "# Finding all special characters in the Annual_Income column\n",
    "special_characters = set()\n",
    "\n",
    "for value in df['Annual_Income']:\n",
    "    for char in value:\n",
    "        if not char.isdigit():\n",
    "            special_characters.add(char)\n",
    "\n",
    "print(\"Special characters in the 'Annual_Income' column:\", special_characters)"
   ]
  },
  {
   "cell_type": "code",
   "execution_count": 32,
   "id": "c1b3b0c7-5b80-4f7d-b880-30a238b9c44a",
   "metadata": {},
   "outputs": [],
   "source": [
    "# Removing '_' from the Annual_Income' column\n",
    "df['Annual_Income'] = df['Annual_Income'].str.replace('_', '')"
   ]
  },
  {
   "cell_type": "code",
   "execution_count": 33,
   "id": "68a4b7e4-ac35-49b7-9178-8db2caa33bcf",
   "metadata": {},
   "outputs": [],
   "source": [
    "df['Annual_Income'] = df['Annual_Income'].astype('float64')"
   ]
  },
  {
   "cell_type": "markdown",
   "id": "667ffe98-020a-4802-a09a-1302b6ac0684",
   "metadata": {},
   "source": [
    "There are some rows where the annual income is unusually high, but for the same customers there are different income values in other rows. So, let's replace those values using mode values of each customer."
   ]
  },
  {
   "cell_type": "code",
   "execution_count": 34,
   "id": "04b96181-964b-4c46-b879-5b64b1a66cd1",
   "metadata": {},
   "outputs": [],
   "source": [
    "df['Annual_Income'] = df.groupby('Customer_ID')['Annual_Income'].transform(lambda x: x.mode().iloc[0])"
   ]
  },
  {
   "cell_type": "code",
   "execution_count": 35,
   "id": "ad323646-4246-4cd2-ae34-73a5343ff128",
   "metadata": {},
   "outputs": [
    {
     "data": {
      "image/png": "[encoded data removed]",
      "text/plain": [
       "<Figure size 500x500 with 1 Axes>"
      ]
     },
     "metadata": {},
     "output_type": "display_data"
    }
   ],
   "source": [
    "sns.displot(data=df, x=df['Annual_Income'], kde=True, bins=50)\n",
    "plt.xlabel('Annual_Income')\n",
    "plt.ylabel('Number of Records')\n",
    "plt.title('Annual Income Distribution')\n",
    "plt.xticks(rotation=0)\n",
    "plt.show()"
   ]
  },
  {
   "cell_type": "markdown",
   "id": "7195a394-8661-402c-bd59-5ec5a462332e",
   "metadata": {},
   "source": [
    "#### Feature: Num_Bank_Accounts"
   ]
  },
  {
   "cell_type": "markdown",
   "id": "d708e201-0f68-417c-a400-9ad4cd9f0e3f",
   "metadata": {},
   "source": [
    "Replacing the values of 'Num_Bank_Accounts' values using Mode values of each customer."
   ]
  },
  {
   "cell_type": "code",
   "execution_count": 36,
   "id": "1459b948-0c9c-4cfc-b74e-ca4d9487154b",
   "metadata": {},
   "outputs": [],
   "source": [
    "df['Num_Bank_Accounts'] = df.groupby('Customer_ID')['Num_Bank_Accounts'].transform(lambda x: x.mode().iloc[0])"
   ]
  },
  {
   "cell_type": "code",
   "execution_count": 37,
   "id": "05d6601a-33c2-4d9d-8e9d-5c84ffed59e1",
   "metadata": {},
   "outputs": [
    {
     "data": {
      "text/plain": [
       "Num_Bank_Accounts\n",
       " 6     13184\n",
       " 7     12976\n",
       " 8     12936\n",
       " 4     12392\n",
       " 5     12272\n",
       " 3     12096\n",
       " 9      5512\n",
       " 10     5328\n",
       " 1      4552\n",
       " 0      4368\n",
       " 2      4352\n",
       "-1        32\n",
       "Name: count, dtype: int64"
      ]
     },
     "execution_count": 37,
     "metadata": {},
     "output_type": "execute_result"
    }
   ],
   "source": [
    "df['Num_Bank_Accounts'].value_counts()"
   ]
  },
  {
   "cell_type": "markdown",
   "id": "b91d76b1-d5fe-4cb4-b4d9-652c302a118f",
   "metadata": {},
   "source": [
    "There are values -1 and 0 under Num_Bank_Accounts column. Replacing those values with 0 as -1 is not possible."
   ]
  },
  {
   "cell_type": "code",
   "execution_count": 38,
   "id": "126b1f39-1238-498d-ae22-33e33037abe4",
   "metadata": {},
   "outputs": [],
   "source": [
    "# Replacing the values -1 and 0 wih 0.\n",
    "df['Num_Bank_Accounts'] = df['Num_Bank_Accounts'].apply(lambda x: 0 if x <= 0 else x)"
   ]
  },
  {
   "cell_type": "code",
   "execution_count": 39,
   "id": "4ce646b4-f7d9-4d60-a80a-0bb3887df847",
   "metadata": {},
   "outputs": [
    {
     "data": {
      "image/png": "[encoded data removed]",
      "text/plain": [
       "<Figure size 640x480 with 1 Axes>"
      ]
     },
     "metadata": {},
     "output_type": "display_data"
    }
   ],
   "source": [
    "sns.countplot(data=df, x=df['Num_Bank_Accounts'])\n",
    "plt.xlabel('Num_Bank_Accounts')\n",
    "plt.ylabel('Number of Records')\n",
    "plt.title('No.of bank accounts Distribution')\n",
    "plt.xticks(rotation=0)\n",
    "plt.show()"
   ]
  },
  {
   "cell_type": "markdown",
   "id": "6bf50b6f-24f6-4c76-9088-a697e608a42f",
   "metadata": {},
   "source": [
    "- There are some outliers,negative values in Num_Bank_Accounts column.\n",
    "- After cleaning, there are 11 possible value in this column.\n",
    "- Num Bank Accounts ranging from 0 to 10.\n",
    "- Majority ofthe customers has no.of bank accounts between 3 to 8."
   ]
  },
  {
   "cell_type": "markdown",
   "id": "6de7aa0b-5082-4ddb-bfc4-bdb8625d413c",
   "metadata": {},
   "source": [
    "#### Feature: Num_Credit_Card"
   ]
  },
  {
   "cell_type": "code",
   "execution_count": 40,
   "id": "1118928b-6b2c-4051-bd1c-589458fd2db2",
   "metadata": {},
   "outputs": [
    {
     "data": {
      "text/plain": [
       "Num_Credit_Card\n",
       "5       18459\n",
       "7       16615\n",
       "6       16559\n",
       "4       14030\n",
       "3       13277\n",
       "        ...  \n",
       "1253        1\n",
       "771         1\n",
       "1057        1\n",
       "438         1\n",
       "312         1\n",
       "Name: count, Length: 1179, dtype: int64"
      ]
     },
     "execution_count": 40,
     "metadata": {},
     "output_type": "execute_result"
    }
   ],
   "source": [
    "df['Num_Credit_Card'].value_counts()"
   ]
  },
  {
   "cell_type": "markdown",
   "id": "46c02051-fe8b-4f0a-b0e3-1ed8a744a2fc",
   "metadata": {},
   "source": [
    "Replacing the values of 'Num_Credit_Card' values using Mode values of each customer, as there are certain values that are generally not possible like having 100s of credit cards."
   ]
  },
  {
   "cell_type": "code",
   "execution_count": 41,
   "id": "b5757833-4b87-42e3-baf9-e70acfeee78f",
   "metadata": {},
   "outputs": [],
   "source": [
    "df['Num_Credit_Card'] = df.groupby('Customer_ID')['Num_Credit_Card'].transform(lambda x: x.mode().iloc[0])"
   ]
  },
  {
   "cell_type": "code",
   "execution_count": 42,
   "id": "1dbcd6d5-6d1d-49c1-8e09-3e6096ca344b",
   "metadata": {},
   "outputs": [
    {
     "data": {
      "text/plain": [
       "Num_Credit_Card\n",
       "5     18904\n",
       "7     16984\n",
       "6     16960\n",
       "4     14336\n",
       "3     13576\n",
       "8      5096\n",
       "10     4960\n",
       "9      4736\n",
       "2      2208\n",
       "1      2184\n",
       "11       40\n",
       "0        16\n",
       "Name: count, dtype: int64"
      ]
     },
     "execution_count": 42,
     "metadata": {},
     "output_type": "execute_result"
    }
   ],
   "source": [
    "df['Num_Credit_Card'].value_counts()"
   ]
  },
  {
   "cell_type": "code",
   "execution_count": 43,
   "id": "d43cc0a1-744e-4a50-809e-75a8dd7a6d24",
   "metadata": {},
   "outputs": [
    {
     "data": {
      "image/png": "[encoded data removed]",
      "text/plain": [
       "<Figure size 640x480 with 1 Axes>"
      ]
     },
     "metadata": {},
     "output_type": "display_data"
    }
   ],
   "source": [
    "sns.countplot(data=df, x=df['Num_Credit_Card'])\n",
    "plt.xlabel('Num_Credit_Card')\n",
    "plt.ylabel('Number of Records')\n",
    "plt.title('No.of credit cards Distribution')\n",
    "plt.xticks(rotation=0)\n",
    "plt.show()"
   ]
  },
  {
   "cell_type": "markdown",
   "id": "ad725f9f-edb9-4056-bbba-f6e02f695373",
   "metadata": {},
   "source": [
    "- There are some outliers,negative values in Num_Credit_Card column.\n",
    "- After cleaning, there are 12 possible value in this column.\n",
    "- Num Bank Accounts ranging from 0 to 11.\n",
    "- Majority of the customers has no.of bank accounts between 3 to 7."
   ]
  },
  {
   "cell_type": "markdown",
   "id": "b3b6a49c-ce2c-40ad-b34b-2ca8b088737e",
   "metadata": {},
   "source": [
    "#### Feature: Interest_Rate"
   ]
  },
  {
   "cell_type": "code",
   "execution_count": 44,
   "id": "c40200e2-db66-47aa-a99f-9187ec8e42fa",
   "metadata": {},
   "outputs": [
    {
     "data": {
      "text/plain": [
       "Interest_Rate\n",
       "8       5012\n",
       "5       4979\n",
       "6       4721\n",
       "10      4540\n",
       "12      4540\n",
       "        ... \n",
       "4805       1\n",
       "4662       1\n",
       "4797       1\n",
       "5473       1\n",
       "3878       1\n",
       "Name: count, Length: 1750, dtype: int64"
      ]
     },
     "execution_count": 44,
     "metadata": {},
     "output_type": "execute_result"
    }
   ],
   "source": [
    "df['Interest_Rate'].value_counts()"
   ]
  },
  {
   "cell_type": "markdown",
   "id": "3d0b2283-22eb-4d0a-afc4-b876513fc4d3",
   "metadata": {},
   "source": [
    "Replacing the values of 'Interest_Rate' values using Mode values of each customer, as there are certain values that are generally not possible like an interest rate of 4805."
   ]
  },
  {
   "cell_type": "code",
   "execution_count": 45,
   "id": "c5a39d47-3a7f-43dc-8b33-c0e62c244989",
   "metadata": {},
   "outputs": [],
   "source": [
    "df['Interest_Rate'] = df.groupby('Customer_ID')['Interest_Rate'].transform(lambda x: x.mode().iloc[0])"
   ]
  },
  {
   "cell_type": "code",
   "execution_count": 46,
   "id": "7366bd9c-8ffb-43f9-84b1-d494b63615f6",
   "metadata": {},
   "outputs": [
    {
     "data": {
      "image/png": "[encoded data removed]",
      "text/plain": [
       "<Figure size 1400x500 with 1 Axes>"
      ]
     },
     "metadata": {},
     "output_type": "display_data"
    }
   ],
   "source": [
    "df['Interest_Rate'].value_counts().head(15).plot(kind = 'bar',figsize=(14,5))\n",
    "\n",
    "plt.xlabel('Interest_Rate')\n",
    "plt.ylabel('Number of Records')\n",
    "plt.title('Interest_Rate Distribution')\n",
    "plt.xticks(rotation=0)\n",
    "plt.show()"
   ]
  },
  {
   "cell_type": "code",
   "execution_count": 47,
   "id": "bbe305b5-462c-4d73-b5c6-f3779b4797b6",
   "metadata": {},
   "outputs": [
    {
     "name": "stdout",
     "output_type": "stream",
     "text": [
      "<class 'pandas.core.frame.DataFrame'>\n",
      "RangeIndex: 100000 entries, 0 to 99999\n",
      "Data columns (total 27 columns):\n",
      " #   Column                    Non-Null Count   Dtype  \n",
      "---  ------                    --------------   -----  \n",
      " 0   ID                        100000 non-null  object \n",
      " 1   Customer_ID               100000 non-null  object \n",
      " 2   Month                     100000 non-null  object \n",
      " 3   Name                      100000 non-null  object \n",
      " 4   Age                       100000 non-null  float64\n",
      " 5   SSN                       100000 non-null  object \n",
      " 6   Occupation                100000 non-null  object \n",
      " 7   Annual_Income             100000 non-null  float64\n",
      " 8   Monthly_Inhand_Salary     100000 non-null  float64\n",
      " 9   Num_Bank_Accounts         100000 non-null  int64  \n",
      " 10  Num_Credit_Card           100000 non-null  int64  \n",
      " 11  Interest_Rate             100000 non-null  int64  \n",
      " 12  Num_of_Loan               100000 non-null  object \n",
      " 13  Type_of_Loan              88592 non-null   object \n",
      " 14  Delay_from_due_date       100000 non-null  int64  \n",
      " 15  Num_of_Delayed_Payment    92998 non-null   object \n",
      " 16  Changed_Credit_Limit      100000 non-null  object \n",
      " 17  Num_Credit_Inquiries      98035 non-null   float64\n",
      " 18  Credit_Mix                100000 non-null  object \n",
      " 19  Outstanding_Debt          100000 non-null  object \n",
      " 20  Credit_Utilization_Ratio  100000 non-null  float64\n",
      " 21  Credit_History_Age        90970 non-null   object \n",
      " 22  Payment_of_Min_Amount     100000 non-null  object \n",
      " 23  Total_EMI_per_month       100000 non-null  float64\n",
      " 24  Amount_invested_monthly   95521 non-null   object \n",
      " 25  Payment_Behaviour         100000 non-null  object \n",
      " 26  Monthly_Balance           98800 non-null   object \n",
      "dtypes: float64(6), int64(4), object(17)\n",
      "memory usage: 20.6+ MB\n"
     ]
    }
   ],
   "source": [
    "df.info()"
   ]
  },
  {
   "cell_type": "markdown",
   "id": "5c0042c8-4f75-4c05-9354-94b2ef512c27",
   "metadata": {},
   "source": [
    "#### Feature: Num_of_Loan"
   ]
  },
  {
   "cell_type": "code",
   "execution_count": 48,
   "id": "b41fa433-fb96-45f7-a175-d46c9b6fbc58",
   "metadata": {
    "scrolled": true
   },
   "outputs": [
    {
     "data": {
      "text/plain": [
       "array(['2', '1094', '4', '4_', '0', '0_', '3', '8', '-100', '8_', '1',\n",
       "       '1_', '9', '7', '1222', '6', '5', '119', '3_', '6_', '2_', '9_',\n",
       "       '143_', '7_', '5_', '1150', '351', '52', '95', '614', '504',\n",
       "       '1241', '1496', '17', '966', '330', '290', '193', '520', '50',\n",
       "       '1265', '352', '571', '190', '995', '55', '433', '590', '661',\n",
       "       '313', '1027_', '92_', '1017', '904', '1132_', '1008', '49', '737',\n",
       "       '546', '1096', '1461', '548', '939', '243', '1014', '924', '526',\n",
       "       '1447', '1228', '1129', '968', '285', '1484', '716', '1236', '801',\n",
       "       '809', '137', '208', '875', '1187', '621', '350', '911', '1023',\n",
       "       '855', '802', '967', '1296', '640', '1131_', '639', '1365', '254',\n",
       "       '1040', '141', '349', '659', '1480', '1259', '889', '70', '344',\n",
       "       '898', '41', '1412', '1353', '720', '1154', '295', '238', '100',\n",
       "       '54', '237', '868', '1214', '873', '33', '895', '1482', '1384',\n",
       "       '182', '1289', '439', '563', '31', '597', '649', '1053', '1036',\n",
       "       '1457', '814', '484', '1359', '252', '282', '945', '65', '781',\n",
       "       '905', '545', '684', '1400', '1035', '84', '372', '143', '733',\n",
       "       '103', '58', '251', '27_', '848', '652', '1416', '999', '1451',\n",
       "       '996', '527', '773', '302', '18', '392', '1294', '910', '628',\n",
       "       '430', '404', '728', '799', '745', '1217', '515', '147', '1135',\n",
       "       '449', '1474', '697', '1297', '1307', '123', '1106', '1463',\n",
       "       '1219_', '1433', '191', '501', '464', '654', '1320_', '438', '510',\n",
       "       '860', '891', '132', '638', '138', '926', '753', '267', '606',\n",
       "       '983', '1406', '1345', '841', '816', '663', '1439', '323', '1137',\n",
       "       '1103', '56', '164', '437', '89', '201', '23', '1391', '1181',\n",
       "       '348', '686', '1015', '341', '1348', '1329', '1182', '148', '529',\n",
       "       '527_', '231', '1196', '1464', '562', '1152', '622', '955', '1470',\n",
       "       '336', '447', '897', '1257', '752', '1225', '679', '288', '943',\n",
       "       '1459_', '1210', '29', '1227', '1372', '1085', '235_', '1048',\n",
       "       '291', '1319', '1039', '227_', '834', '1001', '153', '629', '1019',\n",
       "       '1369', '1393', '778', '742', '613', '1318', '936', '316', '1444',\n",
       "       '1151', '931', '1204', '172', '635', '311', '1209', '831', '1030',\n",
       "       '229', '1054', '444', '832', '394', '1127', '1091', '1002', '462',\n",
       "       '1387', '1363', '1088', '1279', '1419', '843', '1112', '87', '917',\n",
       "       '833', '280', '581', '859', '952', '596', '1216', '378_', '1313',\n",
       "       '1430', '1185_', '174', '275', '497', '284', '630_', '198', '1495',\n",
       "       '1311_', '1441', '274', '540', '601', '935', '216', '719', '332',\n",
       "       '1160', '32', '192', '1354', '1312', '1225_', '838', '242', '329',\n",
       "       '1110', '1340', '958', '701', '1047', '387', '820', '579', '1202',\n",
       "       '186', '636', '1371', '961', '126', '940', '157', '1382', '101',\n",
       "       '1320', '241', '1424', '863', '1300', '1302', '1159', '819', '507',\n",
       "       '696', '217', '538', '463', '1478', '321', '196', '466', '633',\n",
       "       '289', '146', '785_', '359', '1465', '867', '662', '574', '1298',\n",
       "       '1077', '494', '1171_', '1485', '455', '136', '39', '300', '1271',\n",
       "       '1347_', '424', '1131', '131_', '699', '365', '19', '415', '869',\n",
       "       '227', '657', '1046', '1178', '777', '359_', '292', '228', '492',\n",
       "       '420', '1274', '416', '927', '78', '215', '457', '1006', '1189',\n",
       "       '83', '795', '881', '405', '757', '978', '319', '597_', '1129_',\n",
       "       '1074', '1070', '696_', '991', '653', '617', '656', '418', '472'],\n",
       "      dtype=object)"
      ]
     },
     "execution_count": 48,
     "metadata": {},
     "output_type": "execute_result"
    }
   ],
   "source": [
    "df['Num_of_Loan'].unique()"
   ]
  },
  {
   "cell_type": "code",
   "execution_count": 49,
   "id": "6c68ce4a-ec78-46ce-9407-1218745e4f3e",
   "metadata": {},
   "outputs": [
    {
     "name": "stdout",
     "output_type": "stream",
     "text": [
      "Special characters in the 'Num_of_Loan' column: {'-', '_'}\n"
     ]
    }
   ],
   "source": [
    "# Finding all special characters in the Num_of_Loan column\n",
    "special_characters = set()\n",
    "\n",
    "for value in df['Num_of_Loan']:\n",
    "    for char in value:\n",
    "        if not char.isdigit():\n",
    "            special_characters.add(char)\n",
    "\n",
    "print(\"Special characters in the 'Num_of_Loan' column:\", special_characters)"
   ]
  },
  {
   "cell_type": "code",
   "execution_count": 50,
   "id": "8cd4d647-7577-4ab0-8a7a-70754f04ebea",
   "metadata": {},
   "outputs": [],
   "source": [
    "# Let's remove these special characters from the Num_of_Loan column\n",
    "df['Num_of_Loan'] = df['Num_of_Loan'].str.replace(r'[_-]', '', regex=True)"
   ]
  },
  {
   "cell_type": "code",
   "execution_count": 51,
   "id": "0ef3e613-55db-4838-a3d7-6a18bb672911",
   "metadata": {},
   "outputs": [],
   "source": [
    "df['Num_of_Loan'] = df['Num_of_Loan'].astype(int)"
   ]
  },
  {
   "cell_type": "code",
   "execution_count": 52,
   "id": "0f585ec1-13eb-49b3-87fb-4666510e4702",
   "metadata": {},
   "outputs": [
    {
     "data": {
      "text/plain": [
       "Num_of_Loan\n",
       "3      15104\n",
       "2      15032\n",
       "4      14743\n",
       "0      10930\n",
       "1      10606\n",
       "       ...  \n",
       "420        1\n",
       "492        1\n",
       "228        1\n",
       "292        1\n",
       "777        1\n",
       "Name: count, Length: 413, dtype: int64"
      ]
     },
     "execution_count": 52,
     "metadata": {},
     "output_type": "execute_result"
    }
   ],
   "source": [
    "df['Num_of_Loan'].value_counts()"
   ]
  },
  {
   "cell_type": "markdown",
   "id": "d02147f1-4145-4b4b-a61e-28d19e419497",
   "metadata": {},
   "source": [
    "Replacing the values of 'Num_of_Loan' values using Mode values of each customer, as there are certain values that are generally not possible like 777 loans."
   ]
  },
  {
   "cell_type": "code",
   "execution_count": 53,
   "id": "e37c5813-e350-43b6-92c5-1cc0d04faef4",
   "metadata": {},
   "outputs": [],
   "source": [
    "df['Num_of_Loan'] = df.groupby('Customer_ID')['Num_of_Loan'].transform(lambda x: x.mode().iloc[0])"
   ]
  },
  {
   "cell_type": "code",
   "execution_count": 54,
   "id": "6b25f9aa-84d3-4cd0-acbc-9f59aef49172",
   "metadata": {},
   "outputs": [
    {
     "data": {
      "image/png": "[encoded data removed]",
      "text/plain": [
       "<Figure size 1000x500 with 1 Axes>"
      ]
     },
     "metadata": {},
     "output_type": "display_data"
    }
   ],
   "source": [
    "df['Num_of_Loan'].value_counts().plot(kind='bar',figsize=(10,5))\n",
    "plt.xlabel('Num_of_Loan')\n",
    "plt.ylabel('Number of Records')\n",
    "plt.title('Num_of_Loan Distribution')\n",
    "plt.xticks(rotation=0)\n",
    "plt.show()"
   ]
  },
  {
   "cell_type": "markdown",
   "id": "a2ab4109-17b3-43b6-92e6-dcd0384d3ca4",
   "metadata": {},
   "source": [
    "#### Feature: Type_of_Loan"
   ]
  },
  {
   "cell_type": "code",
   "execution_count": 55,
   "id": "1f58a6f0-afd9-45de-ab3a-a431a39206ad",
   "metadata": {
    "scrolled": true
   },
   "outputs": [
    {
     "data": {
      "text/plain": [
       "Type_of_Loan\n",
       "Not Specified                                                                                                                                                         1408\n",
       "Credit-Builder Loan                                                                                                                                                   1280\n",
       "Personal Loan                                                                                                                                                         1272\n",
       "Debt Consolidation Loan                                                                                                                                               1264\n",
       "Student Loan                                                                                                                                                          1240\n",
       "                                                                                                                                                                      ... \n",
       "Personal Loan, Personal Loan, Not Specified, and Payday Loan                                                                                                             8\n",
       "Credit-Builder Loan, Debt Consolidation Loan, Debt Consolidation Loan, Debt Consolidation Loan, Debt Consolidation Loan, Credit-Builder Loan, and Home Equity Loan       8\n",
       "Not Specified, Student Loan, Student Loan, Credit-Builder Loan, and Auto Loan                                                                                            8\n",
       "Credit-Builder Loan, Payday Loan, Not Specified, Student Loan, Student Loan, Home Equity Loan, Home Equity Loan, and Home Equity Loan                                    8\n",
       "Home Equity Loan, Student Loan, Personal Loan, Credit-Builder Loan, Not Specified, Personal Loan, and Mortgage Loan                                                      8\n",
       "Name: count, Length: 6260, dtype: int64"
      ]
     },
     "execution_count": 55,
     "metadata": {},
     "output_type": "execute_result"
    }
   ],
   "source": [
    "df['Type_of_Loan'].value_counts()"
   ]
  },
  {
   "cell_type": "code",
   "execution_count": 56,
   "id": "f7dc8193-e531-45b8-befe-a0b82e646352",
   "metadata": {},
   "outputs": [
    {
     "data": {
      "text/plain": [
       "np.int64(11408)"
      ]
     },
     "execution_count": 56,
     "metadata": {},
     "output_type": "execute_result"
    }
   ],
   "source": [
    "df['Type_of_Loan'].isnull().sum()"
   ]
  },
  {
   "cell_type": "code",
   "execution_count": 57,
   "id": "706c72f9-7dd6-4ae7-9833-bf947b23d41b",
   "metadata": {},
   "outputs": [],
   "source": [
    "# Replacing the null values in 'Type_of_Loan' with 'Not Specified'\n",
    "df['Type_of_Loan'].fillna('Not Specified', inplace=True)"
   ]
  },
  {
   "cell_type": "markdown",
   "id": "95056091-12c1-43d9-a115-2b35304235e8",
   "metadata": {},
   "source": [
    "Separating all the types of loans and encoding them by creating columns for each type of loan."
   ]
  },
  {
   "cell_type": "code",
   "execution_count": 58,
   "id": "35e52cb0-e622-42de-8bf7-4e077ab4b89c",
   "metadata": {},
   "outputs": [],
   "source": [
    "loan_types = df['Type_of_Loan'].str.replace('and', ',').str.get_dummies(', ')"
   ]
  },
  {
   "cell_type": "code",
   "execution_count": 59,
   "id": "6c1a2ec8-2a4b-40f3-9980-f83d66d14c67",
   "metadata": {},
   "outputs": [
    {
     "data": {
      "text/html": [
       "<div>\n",
       "<style scoped>\n",
       "    .dataframe tbody tr th:only-of-type {\n",
       "        vertical-align: middle;\n",
       "    }\n",
       "\n",
       "    .dataframe tbody tr th {\n",
       "        vertical-align: top;\n",
       "    }\n",
       "\n",
       "    .dataframe thead th {\n",
       "        text-align: right;\n",
       "    }\n",
       "</style>\n",
       "<table border=\"1\" class=\"dataframe\">\n",
       "  <thead>\n",
       "    <tr style=\"text-align: right;\">\n",
       "      <th></th>\n",
       "      <th>Auto Loan</th>\n",
       "      <th>Credit-Builder Loan</th>\n",
       "      <th>Debt Consolidation Loan</th>\n",
       "      <th>Home Equity Loan</th>\n",
       "      <th>Mortgage Loan</th>\n",
       "      <th>Not Specified</th>\n",
       "      <th>Payday Loan</th>\n",
       "      <th>Personal Loan</th>\n",
       "      <th>Student Loan</th>\n",
       "    </tr>\n",
       "  </thead>\n",
       "  <tbody>\n",
       "    <tr>\n",
       "      <th>0</th>\n",
       "      <td>0</td>\n",
       "      <td>1</td>\n",
       "      <td>0</td>\n",
       "      <td>1</td>\n",
       "      <td>0</td>\n",
       "      <td>0</td>\n",
       "      <td>0</td>\n",
       "      <td>0</td>\n",
       "      <td>0</td>\n",
       "    </tr>\n",
       "    <tr>\n",
       "      <th>1</th>\n",
       "      <td>0</td>\n",
       "      <td>1</td>\n",
       "      <td>0</td>\n",
       "      <td>1</td>\n",
       "      <td>0</td>\n",
       "      <td>0</td>\n",
       "      <td>0</td>\n",
       "      <td>0</td>\n",
       "      <td>0</td>\n",
       "    </tr>\n",
       "    <tr>\n",
       "      <th>2</th>\n",
       "      <td>0</td>\n",
       "      <td>1</td>\n",
       "      <td>0</td>\n",
       "      <td>1</td>\n",
       "      <td>0</td>\n",
       "      <td>0</td>\n",
       "      <td>0</td>\n",
       "      <td>0</td>\n",
       "      <td>0</td>\n",
       "    </tr>\n",
       "    <tr>\n",
       "      <th>3</th>\n",
       "      <td>0</td>\n",
       "      <td>1</td>\n",
       "      <td>0</td>\n",
       "      <td>1</td>\n",
       "      <td>0</td>\n",
       "      <td>0</td>\n",
       "      <td>0</td>\n",
       "      <td>0</td>\n",
       "      <td>0</td>\n",
       "    </tr>\n",
       "    <tr>\n",
       "      <th>4</th>\n",
       "      <td>0</td>\n",
       "      <td>1</td>\n",
       "      <td>0</td>\n",
       "      <td>1</td>\n",
       "      <td>0</td>\n",
       "      <td>0</td>\n",
       "      <td>0</td>\n",
       "      <td>0</td>\n",
       "      <td>0</td>\n",
       "    </tr>\n",
       "    <tr>\n",
       "      <th>...</th>\n",
       "      <td>...</td>\n",
       "      <td>...</td>\n",
       "      <td>...</td>\n",
       "      <td>...</td>\n",
       "      <td>...</td>\n",
       "      <td>...</td>\n",
       "      <td>...</td>\n",
       "      <td>...</td>\n",
       "      <td>...</td>\n",
       "    </tr>\n",
       "    <tr>\n",
       "      <th>99995</th>\n",
       "      <td>1</td>\n",
       "      <td>0</td>\n",
       "      <td>0</td>\n",
       "      <td>1</td>\n",
       "      <td>1</td>\n",
       "      <td>0</td>\n",
       "      <td>1</td>\n",
       "      <td>0</td>\n",
       "      <td>0</td>\n",
       "    </tr>\n",
       "    <tr>\n",
       "      <th>99996</th>\n",
       "      <td>1</td>\n",
       "      <td>0</td>\n",
       "      <td>0</td>\n",
       "      <td>1</td>\n",
       "      <td>1</td>\n",
       "      <td>0</td>\n",
       "      <td>1</td>\n",
       "      <td>0</td>\n",
       "      <td>0</td>\n",
       "    </tr>\n",
       "    <tr>\n",
       "      <th>99997</th>\n",
       "      <td>1</td>\n",
       "      <td>0</td>\n",
       "      <td>0</td>\n",
       "      <td>1</td>\n",
       "      <td>1</td>\n",
       "      <td>0</td>\n",
       "      <td>1</td>\n",
       "      <td>0</td>\n",
       "      <td>0</td>\n",
       "    </tr>\n",
       "    <tr>\n",
       "      <th>99998</th>\n",
       "      <td>1</td>\n",
       "      <td>0</td>\n",
       "      <td>0</td>\n",
       "      <td>1</td>\n",
       "      <td>1</td>\n",
       "      <td>0</td>\n",
       "      <td>1</td>\n",
       "      <td>0</td>\n",
       "      <td>0</td>\n",
       "    </tr>\n",
       "    <tr>\n",
       "      <th>99999</th>\n",
       "      <td>1</td>\n",
       "      <td>0</td>\n",
       "      <td>0</td>\n",
       "      <td>1</td>\n",
       "      <td>1</td>\n",
       "      <td>0</td>\n",
       "      <td>1</td>\n",
       "      <td>0</td>\n",
       "      <td>0</td>\n",
       "    </tr>\n",
       "  </tbody>\n",
       "</table>\n",
       "<p>100000 rows × 9 columns</p>\n",
       "</div>"
      ],
      "text/plain": [
       "       Auto Loan  Credit-Builder Loan  Debt Consolidation Loan  \\\n",
       "0              0                    1                        0   \n",
       "1              0                    1                        0   \n",
       "2              0                    1                        0   \n",
       "3              0                    1                        0   \n",
       "4              0                    1                        0   \n",
       "...          ...                  ...                      ...   \n",
       "99995          1                    0                        0   \n",
       "99996          1                    0                        0   \n",
       "99997          1                    0                        0   \n",
       "99998          1                    0                        0   \n",
       "99999          1                    0                        0   \n",
       "\n",
       "       Home Equity Loan  Mortgage Loan  Not Specified  Payday Loan  \\\n",
       "0                     1              0              0            0   \n",
       "1                     1              0              0            0   \n",
       "2                     1              0              0            0   \n",
       "3                     1              0              0            0   \n",
       "4                     1              0              0            0   \n",
       "...                 ...            ...            ...          ...   \n",
       "99995                 1              1              0            1   \n",
       "99996                 1              1              0            1   \n",
       "99997                 1              1              0            1   \n",
       "99998                 1              1              0            1   \n",
       "99999                 1              1              0            1   \n",
       "\n",
       "       Personal Loan  Student Loan  \n",
       "0                  0             0  \n",
       "1                  0             0  \n",
       "2                  0             0  \n",
       "3                  0             0  \n",
       "4                  0             0  \n",
       "...              ...           ...  \n",
       "99995              0             0  \n",
       "99996              0             0  \n",
       "99997              0             0  \n",
       "99998              0             0  \n",
       "99999              0             0  \n",
       "\n",
       "[100000 rows x 9 columns]"
      ]
     },
     "execution_count": 59,
     "metadata": {},
     "output_type": "execute_result"
    }
   ],
   "source": [
    "loan_types"
   ]
  },
  {
   "cell_type": "code",
   "execution_count": 60,
   "id": "fd21901d-7a7c-450f-901a-6392f7427934",
   "metadata": {},
   "outputs": [],
   "source": [
    "# Concatenate the new columns with the original DataFrame and re order them.\n",
    "df  = pd.concat([df, loan_types], axis=1)"
   ]
  },
  {
   "cell_type": "code",
   "execution_count": 61,
   "id": "44ed2958-d121-452d-8e7d-864fb72d1654",
   "metadata": {},
   "outputs": [],
   "source": [
    "# Re-ordering the columns\n",
    "df.drop('Type_of_Loan', axis=1, inplace=True)"
   ]
  },
  {
   "cell_type": "code",
   "execution_count": 62,
   "id": "7247ad1a-665e-4b3f-94dc-b5d764959783",
   "metadata": {},
   "outputs": [],
   "source": [
    "columns_order = ['ID', 'Customer_ID', 'Month', 'Name', 'Age', 'SSN', 'Occupation',\n",
    "       'Annual_Income', 'Monthly_Inhand_Salary', 'Num_Bank_Accounts',\n",
    "       'Num_Credit_Card', 'Interest_Rate', 'Num_of_Loan', 'Auto Loan',\n",
    "       'Credit-Builder Loan', 'Debt Consolidation Loan', 'Home Equity Loan',\n",
    "       'Mortgage Loan', 'Not Specified', 'Payday Loan', 'Personal Loan',\n",
    "       'Student Loan','Delay_from_due_date', 'Num_of_Delayed_Payment', 'Changed_Credit_Limit',\n",
    "       'Num_Credit_Inquiries', 'Credit_Mix', 'Outstanding_Debt',\n",
    "       'Credit_Utilization_Ratio', 'Credit_History_Age',\n",
    "       'Payment_of_Min_Amount', 'Total_EMI_per_month',\n",
    "       'Amount_invested_monthly', 'Payment_Behaviour', 'Monthly_Balance']\n",
    "df=df[columns_order]"
   ]
  },
  {
   "cell_type": "markdown",
   "id": "c9fb33ff-efdd-4c13-9a84-4bead18c3109",
   "metadata": {},
   "source": [
    "#### Feature: Delay_from_due_date"
   ]
  },
  {
   "cell_type": "code",
   "execution_count": 64,
   "id": "2a332565-76de-40c7-b16a-0fa0bcd04b38",
   "metadata": {},
   "outputs": [
    {
     "data": {
      "text/plain": [
       "array([64, 57, 62, 67, 10,  5,  8,  3, 14, 19,  9, 27, 29, 12, 16,  6, 24,\n",
       "        0, -4, -5,  1, 15, 23, 28, 18, 13, 11, 25, 50, 47, 48, 46,  7,  2,\n",
       "       -3,  4, 30, 21, 17, 20, 22, 35, 40, 26, 31, 58, 59, 63, 37, 42, 43,\n",
       "       38, 55, 41, 36, 52, 54, 53, 49, -2, 44, 39, 61, 34, 33, -1, 45, 51,\n",
       "       60, 66, 56, 32, 65])"
      ]
     },
     "execution_count": 64,
     "metadata": {},
     "output_type": "execute_result"
    }
   ],
   "source": [
    "df['Delay_from_due_date'].unique()"
   ]
  },
  {
   "cell_type": "markdown",
   "id": "f7ffdcb4-2aba-454e-9a32-40ab9af98280",
   "metadata": {},
   "source": [
    "There are some negative values as well in this column. This denotes that the payment has been made before the due date.\n",
    "Values are in the range of -5 to 67."
   ]
  },
  {
   "cell_type": "code",
   "execution_count": 65,
   "id": "c4c3b02a-a76a-4399-8376-872237904b6d",
   "metadata": {},
   "outputs": [
    {
     "data": {
      "image/png": "[encoded data removed]",
      "text/plain": [
       "<Figure size 500x500 with 1 Axes>"
      ]
     },
     "metadata": {},
     "output_type": "display_data"
    }
   ],
   "source": [
    "sns.displot(data=df, x=df['Delay_from_due_date'], kde=True, bins=50)\n",
    "plt.xlabel('Delay_from_due_date')\n",
    "plt.ylabel('Number of Records')\n",
    "plt.title('Distribution of no.of delay days')\n",
    "plt.xticks(rotation=0)\n",
    "plt.show()"
   ]
  },
  {
   "cell_type": "markdown",
   "id": "d450b8f8-ffef-4b0a-8428-941219872d15",
   "metadata": {},
   "source": [
    "#### Feature: Num_of_Delayed_Payment"
   ]
  },
  {
   "cell_type": "code",
   "execution_count": 66,
   "id": "5842e529-26be-45fb-aed5-e8f67989389e",
   "metadata": {
    "scrolled": true
   },
   "outputs": [
    {
     "data": {
      "text/plain": [
       "array(['25', '26', '23', '28', '18', '16', '1749', '19', '7', '8', '9',\n",
       "       '15', '13', nan, '12', '17_', '10', '20', '22', '1', '5', '2',\n",
       "       '11', '17', '15_', '14', '3', '4', '6', '21', '8_', '11_', '0',\n",
       "       '2230', '24', '18_', '-2', '19_', '1636', '20_', '-1', '16_',\n",
       "       '921', '9_', '1766', '21_', '12_', '6_', '1_', '25_', '0_', '-3',\n",
       "       '1572', '5_', '14_', '3_', '3162', '27', '1034', '4211', '4_',\n",
       "       '2712', '1832', '22_', '3251', '7_', '867', '13_', '4106', '3951',\n",
       "       '2216', '24_', '10_', '2_', '1640', '2142_', '754', '974', '1180',\n",
       "       '1359', '320', '2250', '3621', '2438', '531', '3738', '2566',\n",
       "       '719', '4326', '223', '1833', '3881', '23_', '439', '1614', '3495',\n",
       "       '960', '4075', '3119', '4302', '121', '2081', '3894', '3484',\n",
       "       '2594', '4126', '3944', '2553', '1820', '819', '27_', '3629',\n",
       "       '2080', '1480', '2801', '359', '94', '473', '2072', '2604', '306',\n",
       "       '1633', '4262', '2488', '2008', '2955', '1647', '1691', '468',\n",
       "       '1150', '3491', '4178', '1215', '3793', '3623', '2672', '2508',\n",
       "       '1867', '4340', '1862', '1282', '1422', '441', '1204', '519',\n",
       "       '2938', '371', '594', '663_', '46', '3458', '2658', '4134', '2907',\n",
       "       '2047', '4011', '2991', '4319', '674', '4216', '2671', '-2_',\n",
       "       '2323', '271', '2184', '2628', '2381', '3191', '2376', '2260',\n",
       "       '4005', '426', '399', '337', '3069', '3156', '4231', '1750', '372',\n",
       "       '2378', '876', '2279', '3545', '1222', '3764', '1663', '3200',\n",
       "       '1890', '2728', '4069', '559', '1598', '3316', '2753', '1687',\n",
       "       '281', '84', '4047', '1354', '4135', '2533', '2018', '708', '1509',\n",
       "       '4360', '3726', '1825', '1864', '3112', '1329', '-3_', '733',\n",
       "       '1765', '775', '3684', '3212', '3478', '2400', '4278', '3636',\n",
       "       '871', '3946', '3900', '2534', '49', '26_', '197', '1295_', '1841',\n",
       "       '1478', '4172', '2638', '3972', '1211', '905', '1699', '2324',\n",
       "       '1325', '1706', '2056', '2903', '2569', '4293', '2621', '2924',\n",
       "       '1792', '1338', '3107', '430', '714', '2015', '2879', '1673',\n",
       "       '4024', '415', '2569_', '-1_', '1900', '1852', '2945', '4249',\n",
       "       '195', '2280', '132', '384', '3148', '642', '3539', '3905', '3171',\n",
       "       '3050', '1911', '804', '2493', '85', '1463', '3208', '3031',\n",
       "       '2560', '1795', '1664', '3739', '1481', '3861_', '1172', '1014',\n",
       "       '1106', '4219', '3751', '3051', '1989', '2149', '1323_', '739',\n",
       "       '47', '1735', '2255', '1263', '1718', '2566_', '4002', '4295',\n",
       "       '1402', '1086', '3329', '2873', '4113', '3037', '848_', '813',\n",
       "       '2413', '2521', '2142', '926', '3707', '210', '2348', '3216',\n",
       "       '1450', '2021', '2766', '3340', '3447', '1328', '2913', '615',\n",
       "       '4241', '3313', '1994', '2420', '532', '538', '1411', '2511',\n",
       "       '3529', '4169', '107', '1191', '2823', '283', '3580', '2354',\n",
       "       '3765', '1332', '1530', '3926', '3706', '3099', '3790', '1850',\n",
       "       '2131', '2697', '2239', '162', '2590', '904', '1370', '847',\n",
       "       '3103', '3661', '1216', '544', '1985', '4185', '3502', '3533',\n",
       "       '106', '3368', '1301', '853', '3840_', '4191', '523', '3318',\n",
       "       '2128', '1015', '4022', '4280', '585', '2578', '3819', '972',\n",
       "       '602', '2060', '2278', '264', '3845', '1502', '221', '3688',\n",
       "       '1154', '1473', '666', '3920_', '2237_', '1243', '1976', '1192',\n",
       "       '450', '1552', '1278', '3097_', '851', '3040', '2127', '1685',\n",
       "       '4096', '4042', '1511', '1523', '3815', '3855', '4161', '133',\n",
       "       '3750', '252', '2397', '217', '88', '2529', '309', '273', '2286',\n",
       "       '1079', '2694', '166', '3632', '1443', '1199', '4107', '2875',\n",
       "       '834', '808', '2429', '3457', '2219_', '577', '3721', '3011',\n",
       "       '2729', '2492', '4282', '182', '3858', '1743', '2615', '3092',\n",
       "       '2950', '3536', '3355', '1823', '238', '2943', '4077', '4095',\n",
       "       '3865', '1861', '3708', '183_', '1184', '846', '709', '4239',\n",
       "       '2926', '1087_', '2707', '4159', '1371', '3142', '2882', '787',\n",
       "       '3392', '2793', '3568', '845', '1975', '1073', '3919', '3909',\n",
       "       '2334', '640', '1541', '2759', '4023', '2751', '1471', '1256',\n",
       "       '2657', '2274', '1096', '3009', '1164', '3155', '2148', '2737',\n",
       "       '86', '3522', '4281', '2523', '3489', '3177', '3154', '3415',\n",
       "       '1606', '1967', '3864', '3300', '1392', '1869', '1177', '3407',\n",
       "       '887', '145', '4144', '4384', '969', '3499', '2854', '1538',\n",
       "       '3559', '3402', '2666', '1004', '2705', '2314', '2138', '3754',\n",
       "       '583', '98', '2044', '1697', '2959', '3722', '933', '4051', '2655',\n",
       "       '1849', '2689', '3222', '2552', '2794_', '2006', '829', '1063',\n",
       "       '28_', '2162', '3105', '1045', '1859', '4397', '1337', '3060',\n",
       "       '3467', '683', '2677', '938', '2956', '1389', '1653', '351', '693',\n",
       "       '3243', '1941', '2165', '2070', '4270', '2141', '4019', '3260',\n",
       "       '2461', '3404', '2007', '2616', '482', '3268', '398', '1571',\n",
       "       '3488', '2617', '2810', '2311', '700', '2756', '1181', '2896',\n",
       "       '4128', '3083', '3078', '416', '2503', '1473_', '2506', '742',\n",
       "       '3229', '3253', '4053', '1553', '1236', '2591', '1732', '707',\n",
       "       '4164', '411', '4292', '3115', '749', '2185', '1946', '3584',\n",
       "       '1953', '3978', '541', '3827', '809', '142', '2276', '2317',\n",
       "       '3749', '2587', '2636', '3416', '3370', '3766', '2278_', '4311',\n",
       "       '1489', '130', '294', '827', '3796', '1801', '1218', '4059',\n",
       "       '2768', '4266', '1579', '1952', '2457', '3179', '290', '2589',\n",
       "       '1608', '2196', '2820', '2418', '3245', '2076', '2573', '1133',\n",
       "       '2812', '2498', '1668', '2777', '3870', '186', '2860', '2609',\n",
       "       '3955', '2300', '2570', '508', '793', '1954', '211', '80', '1775',\n",
       "       '676', '1049', '2384', '1891', '102', '4344', '1061', '1879',\n",
       "       '3574', '662', '529', '3043', '2834', '3104', '1060', '929',\n",
       "       '2297', '659', '2262', '3878', '4324', '3336', '4388', '2450',\n",
       "       '3511', '3763', '4251', '192', '3960', '4043', '1996', '1178',\n",
       "       '2660', '3776', '3660', '1874', '1534', '3175', '2645', '4139',\n",
       "       '996', '2351', '2352', '2001', '3880', '1018', '758_', '4337',\n",
       "       '3869', '823', '2544', '2585', '497', '3274', '3456', '2385',\n",
       "       '196', '923', '2431', '3010', '2243', '1884', '778', '175', '2167',\n",
       "       '2222', '1531', '72', '265', '2954', '800', '3847', '779', '4037',\n",
       "       '3391', '4298', '2919', '3492', '52', '1498', '328', '1536',\n",
       "       '2204', '1087'], dtype=object)"
      ]
     },
     "execution_count": 66,
     "metadata": {},
     "output_type": "execute_result"
    }
   ],
   "source": [
    "df['Num_of_Delayed_Payment'].unique()"
   ]
  },
  {
   "cell_type": "code",
   "execution_count": 67,
   "id": "e007c42a-af48-40ee-bc17-5364c42891c5",
   "metadata": {},
   "outputs": [
    {
     "name": "stdout",
     "output_type": "stream",
     "text": [
      "Special characters in the 'Num_of_Delayed_Payment' column: {'-', '_'}\n"
     ]
    }
   ],
   "source": [
    "# Finding all special characters in the Num_of_Delayed_Payment column\n",
    "special_characters = set()\n",
    "\n",
    "for value in df['Num_of_Delayed_Payment']:\n",
    "    if isinstance(value, str):  # Checks if the value is a string\n",
    "        for char in value:\n",
    "            if not char.isdigit():\n",
    "                special_characters.add(char)\n",
    "    elif isinstance(value, float) and not pd.isna(value):\n",
    "        # Handles float values that are not NaN by converting them to strings\n",
    "        value_str = str(int(value))\n",
    "        for char in value_str:\n",
    "            if not char.isdigit():\n",
    "                special_characters.add(char)\n",
    "\n",
    "print(\"Special characters in the 'Num_of_Delayed_Payment' column:\", special_characters)"
   ]
  },
  {
   "cell_type": "code",
   "execution_count": 68,
   "id": "e976bfdd-a624-4ae2-8930-820a226d82ef",
   "metadata": {},
   "outputs": [],
   "source": [
    "# Let's remove these special characters from the Num_of_Delayed_Payment column\n",
    "df['Num_of_Delayed_Payment'] = df['Num_of_Delayed_Payment'].str.replace(r'[_-]', '', regex=True)"
   ]
  },
  {
   "cell_type": "code",
   "execution_count": 69,
   "id": "2195a58c-900f-4e0e-bc55-c7dfd9ecc281",
   "metadata": {},
   "outputs": [],
   "source": [
    "# Changing the datatype to 'int'\n",
    "df['Num_of_Delayed_Payment'] = df['Num_of_Delayed_Payment'].astype(float)"
   ]
  },
  {
   "cell_type": "code",
   "execution_count": 70,
   "id": "cf42a7ca-368b-4e3c-81c2-0464cb24cd8c",
   "metadata": {},
   "outputs": [],
   "source": [
    "df['Num_of_Delayed_Payment'] = df.groupby('Customer_ID')['Num_of_Delayed_Payment'].transform(lambda x: x.mode().iloc[0])"
   ]
  },
  {
   "cell_type": "code",
   "execution_count": 71,
   "id": "226b50b3-b1d6-4a52-8b95-a0470ed7a1f1",
   "metadata": {},
   "outputs": [
    {
     "data": {
      "image/png": "[encoded data removed]",
      "text/plain": [
       "<Figure size 800x500 with 1 Axes>"
      ]
     },
     "metadata": {},
     "output_type": "display_data"
    }
   ],
   "source": [
    "plt.figure(figsize=(8,5))\n",
    "sns.countplot(data=df, x=df['Num_of_Delayed_Payment'])\n",
    "plt.xlabel('Num_of_Delayed_Payment')\n",
    "plt.ylabel('Number of Records')\n",
    "plt.title('Num_of_Delayed_Payment Distribution')\n",
    "plt.xticks(rotation=90)\n",
    "plt.show()"
   ]
  },
  {
   "cell_type": "markdown",
   "id": "36f253af-b3f3-48dd-b43c-eb6f9d741119",
   "metadata": {},
   "source": [
    "#### Feature: Changed_Credit_Limit"
   ]
  },
  {
   "cell_type": "code",
   "execution_count": 72,
   "id": "9188e61b-58f3-4812-ba7c-00d481f7e6ce",
   "metadata": {},
   "outputs": [
    {
     "data": {
      "text/plain": [
       "Changed_Credit_Limit\n",
       "_        2091\n",
       "8.22      135\n",
       "11.5      127\n",
       "11.32     126\n",
       "7.35      121\n",
       "         ... \n",
       "31.55       1\n",
       "-5.65       1\n",
       "24.27       1\n",
       "-4.73       1\n",
       "21.74       1\n",
       "Name: count, Length: 3635, dtype: int64"
      ]
     },
     "execution_count": 72,
     "metadata": {},
     "output_type": "execute_result"
    }
   ],
   "source": [
    "df['Changed_Credit_Limit'].value_counts()"
   ]
  },
  {
   "cell_type": "code",
   "execution_count": 73,
   "id": "c40cc79c-2b30-45e1-81ec-98f237184eb7",
   "metadata": {},
   "outputs": [
    {
     "data": {
      "text/plain": [
       "np.int64(0)"
      ]
     },
     "execution_count": 73,
     "metadata": {},
     "output_type": "execute_result"
    }
   ],
   "source": [
    "df['Changed_Credit_Limit'].isnull().sum()"
   ]
  },
  {
   "cell_type": "markdown",
   "id": "9a266a0e-0708-4454-8599-d2db1eaabc99",
   "metadata": {},
   "source": [
    "There are no null values in this column."
   ]
  },
  {
   "cell_type": "code",
   "execution_count": 74,
   "id": "4816752a-1f0e-4383-8b21-882e6b7963f2",
   "metadata": {},
   "outputs": [
    {
     "name": "stdout",
     "output_type": "stream",
     "text": [
      "Special characters in the 'Changed_Credit_Limit' column: {'.', '-', '_'}\n"
     ]
    }
   ],
   "source": [
    "# Finding all special characters in the Changed_Credit_Limit column\n",
    "special_characters = set()\n",
    "\n",
    "for value in df['Changed_Credit_Limit']:\n",
    "    for char in value:\n",
    "        if not char.isdigit():\n",
    "            special_characters.add(char)\n",
    "\n",
    "print(\"Special characters in the 'Changed_Credit_Limit' column:\", special_characters)"
   ]
  },
  {
   "cell_type": "code",
   "execution_count": 75,
   "id": "cbe9e7ec-ef6b-42ac-a2fd-a82a06480739",
   "metadata": {},
   "outputs": [],
   "source": [
    "df['Changed_Credit_Limit'] = df['Changed_Credit_Limit'].str.replace('_', '')"
   ]
  },
  {
   "cell_type": "code",
   "execution_count": 76,
   "id": "36d8f156-63b1-4840-b1b4-40f10601d8c3",
   "metadata": {},
   "outputs": [],
   "source": [
    "df['Changed_Credit_Limit'] = df['Changed_Credit_Limit'].replace('', '0')"
   ]
  },
  {
   "cell_type": "code",
   "execution_count": 77,
   "id": "1bf14d4b-d29e-4ad5-847e-51d59454be8a",
   "metadata": {},
   "outputs": [],
   "source": [
    "df['Changed_Credit_Limit'] = df.groupby('Customer_ID')['Changed_Credit_Limit'].transform(lambda x: x.mode().iloc[0])"
   ]
  },
  {
   "cell_type": "code",
   "execution_count": 78,
   "id": "81c36e71-6927-4375-9517-3fe90ed4a770",
   "metadata": {},
   "outputs": [],
   "source": [
    "df['Changed_Credit_Limit'] = df['Changed_Credit_Limit'].astype(float)"
   ]
  },
  {
   "cell_type": "code",
   "execution_count": 82,
   "id": "f31b17af-10ea-428f-832f-be1384b31254",
   "metadata": {},
   "outputs": [
    {
     "data": {
      "image/png": "[encoded data removed]",
      "text/plain": [
       "<Figure size 500x500 with 1 Axes>"
      ]
     },
     "metadata": {},
     "output_type": "display_data"
    }
   ],
   "source": [
    "sns.displot(data=df, x=df['Changed_Credit_Limit'], kde=True, bins=20)\n",
    "plt.xlabel('Changed_Credit_Limit')\n",
    "plt.ylabel('Number of Records')\n",
    "plt.title('Changed_Credit_Limit Distribution')\n",
    "plt.xticks(rotation=90)\n",
    "plt.show()"
   ]
  },
  {
   "cell_type": "markdown",
   "id": "a9672c93-197d-4cd5-a63b-2018110e871c",
   "metadata": {},
   "source": [
    "There are some negative values in this column which might indicate the percentage decrease in the Credit limit."
   ]
  },
  {
   "cell_type": "markdown",
   "id": "9cd9990e-ec0c-4297-ad5c-3aa746d91ce6",
   "metadata": {},
   "source": [
    "#### Feature: Num_Credit_Inquiries"
   ]
  },
  {
   "cell_type": "code",
   "execution_count": 84,
   "id": "56c49e9f-f4cf-40f0-b0be-bdb2c0adadff",
   "metadata": {},
   "outputs": [
    {
     "data": {
      "text/plain": [
       "Num_Credit_Inquiries\n",
       "4.0       11271\n",
       "3.0        8890\n",
       "6.0        8111\n",
       "7.0        8058\n",
       "2.0        8028\n",
       "          ...  \n",
       "1355.0        1\n",
       "1391.0        1\n",
       "1430.0        1\n",
       "856.0         1\n",
       "57.0          1\n",
       "Name: count, Length: 1223, dtype: int64"
      ]
     },
     "execution_count": 84,
     "metadata": {},
     "output_type": "execute_result"
    }
   ],
   "source": [
    "df['Num_Credit_Inquiries'].value_counts()"
   ]
  },
  {
   "cell_type": "code",
   "execution_count": 86,
   "id": "e11f5926-a2da-4a65-9ca7-1a69815c40f8",
   "metadata": {},
   "outputs": [
    {
     "data": {
      "text/plain": [
       "np.int64(1965)"
      ]
     },
     "execution_count": 86,
     "metadata": {},
     "output_type": "execute_result"
    }
   ],
   "source": [
    "df['Num_Credit_Inquiries'].isnull().sum()"
   ]
  },
  {
   "cell_type": "code",
   "execution_count": 87,
   "id": "4a16be5b-6d88-4f27-b2cb-1691a986cf6e",
   "metadata": {
    "scrolled": true
   },
   "outputs": [
    {
     "name": "stdout",
     "output_type": "stream",
     "text": [
      "Customer_ID\n",
      "CUS_0x1000    2\n",
      "CUS_0x1009    2\n",
      "CUS_0x100b    3\n",
      "CUS_0x1011    2\n",
      "CUS_0x1015    2\n",
      "             ..\n",
      "CUS_0xfe4     2\n",
      "CUS_0xfe5     2\n",
      "CUS_0xff3     2\n",
      "CUS_0xffc     2\n",
      "CUS_0xffd     2\n",
      "Name: Num_Credit_Inquiries, Length: 7830, dtype: int64\n"
     ]
    }
   ],
   "source": [
    "# Grouping by 'Customer_ID' to check if there is more than one unique 'Num_Credit_Inquiries' value\n",
    "customers_with_different_inquiries = df.groupby('Customer_ID')['Num_Credit_Inquiries'].nunique()\n",
    "\n",
    "# Filtering to find customers with more than one unique value\n",
    "customers_with_different_inquiries = customers_with_different_inquiries[customers_with_different_inquiries > 1]\n",
    "\n",
    "# Display customers with different 'Num_Credit_Inquiries'\n",
    "print(customers_with_different_inquiries)"
   ]
  },
  {
   "cell_type": "markdown",
   "id": "028c1481-610e-4904-8d93-e44242f3741b",
   "metadata": {},
   "source": [
    "There are multiple customers who has different 'Num_Credit_Inquiries' values.\n",
    "\n",
    "Replacing the the abnormal values using mode values of each customer."
   ]
  },
  {
   "cell_type": "code",
   "execution_count": 90,
   "id": "7780f162-c4e6-48ee-bf02-86ad486c52ee",
   "metadata": {},
   "outputs": [],
   "source": [
    "df['Num_Credit_Inquiries'] = df.groupby('Customer_ID')['Num_Credit_Inquiries'].transform(lambda x: x.mode().iloc[0])"
   ]
  },
  {
   "cell_type": "code",
   "execution_count": 93,
   "id": "86ba9b83-7a37-411c-ac40-4b06715685c6",
   "metadata": {},
   "outputs": [
    {
     "data": {
      "text/plain": [
       "np.int64(0)"
      ]
     },
     "execution_count": 93,
     "metadata": {},
     "output_type": "execute_result"
    }
   ],
   "source": [
    "df['Num_Credit_Inquiries'].isnull().sum()"
   ]
  },
  {
   "cell_type": "code",
   "execution_count": 92,
   "id": "ddcafe0a-8071-4819-9e33-5fcaf871413a",
   "metadata": {},
   "outputs": [
    {
     "data": {
      "image/png": "[encoded data removed]",
      "text/plain": [
       "<Figure size 640x480 with 1 Axes>"
      ]
     },
     "metadata": {},
     "output_type": "display_data"
    }
   ],
   "source": [
    "sns.countplot(data=df, x=df['Num_Credit_Inquiries'])\n",
    "plt.xlabel('Num_Credit_Inquiries')\n",
    "plt.ylabel('Number of Records')\n",
    "plt.title('Distribution of Num_Credit_Inquiries')\n",
    "plt.xticks(rotation=90)\n",
    "plt.show()"
   ]
  },
  {
   "cell_type": "markdown",
   "id": "ca852e12-9bcf-4550-99c1-699b04f97c02",
   "metadata": {},
   "source": [
    "#### Feature: Credit_Mix"
   ]
  },
  {
   "cell_type": "code",
   "execution_count": 95,
   "id": "576b3363-d1cb-4ed5-bd09-e43119cd10f2",
   "metadata": {},
   "outputs": [
    {
     "data": {
      "text/plain": [
       "Credit_Mix\n",
       "Standard    36479\n",
       "Good        24337\n",
       "_           20195\n",
       "Bad         18989\n",
       "Name: count, dtype: int64"
      ]
     },
     "execution_count": 95,
     "metadata": {},
     "output_type": "execute_result"
    }
   ],
   "source": [
    "df['Credit_Mix'].value_counts()"
   ]
  },
  {
   "cell_type": "markdown",
   "id": "e033d0ca-fbe2-4115-990f-8c4493d14019",
   "metadata": {},
   "source": [
    "More than 20k values are blanks."
   ]
  },
  {
   "cell_type": "code",
   "execution_count": 96,
   "id": "dc4c86c2-2390-410b-9625-3f04e8d5f6c5",
   "metadata": {},
   "outputs": [
    {
     "data": {
      "text/plain": [
       "np.int64(0)"
      ]
     },
     "execution_count": 96,
     "metadata": {},
     "output_type": "execute_result"
    }
   ],
   "source": [
    "df['Credit_Mix'].isnull().sum()"
   ]
  },
  {
   "cell_type": "markdown",
   "id": "deb7c88c-f1dd-4a9a-8396-6d089afd9c2b",
   "metadata": {},
   "source": [
    "There are no null values apart from the blanks. So, let's replace those values with NaNs."
   ]
  },
  {
   "cell_type": "code",
   "execution_count": 97,
   "id": "b80cf3dc-a8e4-4ee8-aeca-92848fc96580",
   "metadata": {},
   "outputs": [],
   "source": [
    "df['Credit_Mix'] = df['Credit_Mix'].replace('_', np.nan)"
   ]
  },
  {
   "cell_type": "markdown",
   "id": "db27a62c-3c43-43b2-90cd-2497cdf267eb",
   "metadata": {},
   "source": [
    "Replacing those null values using the values from previous or next rows of that customers."
   ]
  },
  {
   "cell_type": "code",
   "execution_count": 100,
   "id": "d42dba54-6bcf-4589-8a29-a1b0e0ee2cb7",
   "metadata": {},
   "outputs": [],
   "source": [
    "df['Credit_Mix'] = df.groupby('Customer_ID')['Credit_Mix'].fillna(method='ffill').fillna(method='bfill')"
   ]
  },
  {
   "cell_type": "code",
   "execution_count": 101,
   "id": "c9aa1edc-79c8-45db-a83c-68e86f2acd8b",
   "metadata": {},
   "outputs": [
    {
     "data": {
      "image/png": "[encoded data removed]",
      "text/plain": [
       "<Figure size 640x480 with 1 Axes>"
      ]
     },
     "metadata": {},
     "output_type": "display_data"
    }
   ],
   "source": [
    "sns.countplot(data=df, x=df['Credit_Mix'])\n",
    "plt.xlabel('Credit_Mix')\n",
    "plt.ylabel('Number of Records')\n",
    "plt.title('Distribution of Credit_Mix')\n",
    "plt.xticks(rotation=0)\n",
    "plt.show()"
   ]
  },
  {
   "cell_type": "markdown",
   "id": "5de94047-436b-4f68-9c04-8fa3e23d2375",
   "metadata": {},
   "source": [
    "#### Feature: Outstanding_Debt"
   ]
  },
  {
   "cell_type": "code",
   "execution_count": 103,
   "id": "090d2ac4-be63-49ba-9d27-1750f56ab2ee",
   "metadata": {},
   "outputs": [
    {
     "data": {
      "text/plain": [
       "Outstanding_Debt\n",
       "1360.45     24\n",
       "1151.7      23\n",
       "460.46      23\n",
       "1109.03     23\n",
       "288.32      16\n",
       "            ..\n",
       "370.22_      1\n",
       "233.83_      1\n",
       "743.65_      1\n",
       "1278.12_     1\n",
       "465.04_      1\n",
       "Name: count, Length: 13178, dtype: int64"
      ]
     },
     "execution_count": 103,
     "metadata": {},
     "output_type": "execute_result"
    }
   ],
   "source": [
    "df['Outstanding_Debt'].value_counts()"
   ]
  },
  {
   "cell_type": "code",
   "execution_count": 104,
   "id": "efa04c43-3cdb-4705-9daf-941e369111d2",
   "metadata": {},
   "outputs": [
    {
     "data": {
      "text/plain": [
       "np.int64(0)"
      ]
     },
     "execution_count": 104,
     "metadata": {},
     "output_type": "execute_result"
    }
   ],
   "source": [
    "df['Outstanding_Debt'].isnull().sum()"
   ]
  },
  {
   "cell_type": "markdown",
   "id": "b19cfcf2-808a-4dce-a32a-2cfbb1e8e78b",
   "metadata": {},
   "source": [
    "There are no null values in this column."
   ]
  },
  {
   "cell_type": "code",
   "execution_count": 105,
   "id": "90898b09-e099-4076-aa86-13b2f6e138c8",
   "metadata": {},
   "outputs": [
    {
     "name": "stdout",
     "output_type": "stream",
     "text": [
      "Special characters in the 'Outstanding_Debt' column: {'.', '_'}\n"
     ]
    }
   ],
   "source": [
    "# Finding all special characters in the Outstanding_Debt column\n",
    "special_characters = set()\n",
    "\n",
    "for value in df['Outstanding_Debt']:\n",
    "    for char in value:\n",
    "        if not char.isdigit():\n",
    "            special_characters.add(char)\n",
    "\n",
    "print(\"Special characters in the 'Outstanding_Debt' column:\", special_characters)"
   ]
  },
  {
   "cell_type": "code",
   "execution_count": 106,
   "id": "e5163304-df1b-483c-b480-7d3e0b8f83ec",
   "metadata": {},
   "outputs": [],
   "source": [
    "df['Outstanding_Debt'] = df['Outstanding_Debt'].str.replace('_', '')"
   ]
  },
  {
   "cell_type": "code",
   "execution_count": 107,
   "id": "890e9795-79f8-4c3b-b911-7e4261f39254",
   "metadata": {},
   "outputs": [],
   "source": [
    "df['Outstanding_Debt'] = df['Outstanding_Debt'].astype(float)"
   ]
  },
  {
   "cell_type": "code",
   "execution_count": 108,
   "id": "62e0849b-7220-4f53-b5b0-34f0f2f3bc40",
   "metadata": {},
   "outputs": [
    {
     "data": {
      "image/png": "[encoded data removed]",
      "text/plain": [
       "<Figure size 500x500 with 1 Axes>"
      ]
     },
     "metadata": {},
     "output_type": "display_data"
    }
   ],
   "source": [
    "sns.displot(data=df, x=df['Outstanding_Debt'], kde=True, bins=50)\n",
    "plt.xlabel('Outstanding_Debt')\n",
    "plt.ylabel('Number of Records')\n",
    "plt.title('Distribution of Outstanding_Debt')\n",
    "plt.xticks(rotation=90)\n",
    "plt.show()"
   ]
  },
  {
   "cell_type": "markdown",
   "id": "bdd7ec28-71bb-4da9-ab26-6d8a490d4ffc",
   "metadata": {},
   "source": [
    "#### Feature: Credit_Utilization_Ratio"
   ]
  },
  {
   "cell_type": "code",
   "execution_count": 110,
   "id": "8e142f82-d33e-4374-b0f3-54d65756b765",
   "metadata": {},
   "outputs": [
    {
     "data": {
      "text/plain": [
       "Credit_Utilization_Ratio\n",
       "33.163023    2\n",
       "26.407909    2\n",
       "24.996239    1\n",
       "40.286997    1\n",
       "28.451199    1\n",
       "            ..\n",
       "42.501107    1\n",
       "23.631611    1\n",
       "25.211305    1\n",
       "28.432276    1\n",
       "32.330508    1\n",
       "Name: count, Length: 99998, dtype: int64"
      ]
     },
     "execution_count": 110,
     "metadata": {},
     "output_type": "execute_result"
    }
   ],
   "source": [
    "df['Credit_Utilization_Ratio'].value_counts()"
   ]
  },
  {
   "cell_type": "code",
   "execution_count": 111,
   "id": "6b0d9b1f-e715-49ef-b814-e1ca5149ca27",
   "metadata": {},
   "outputs": [
    {
     "data": {
      "text/plain": [
       "np.int64(0)"
      ]
     },
     "execution_count": 111,
     "metadata": {},
     "output_type": "execute_result"
    }
   ],
   "source": [
    "df['Credit_Utilization_Ratio'].isnull().sum()"
   ]
  },
  {
   "cell_type": "markdown",
   "id": "194615c7-c847-4357-90a8-072a9d45727a",
   "metadata": {},
   "source": [
    "There are no null values in this column."
   ]
  },
  {
   "cell_type": "code",
   "execution_count": 114,
   "id": "207e0b5f-a202-4785-98da-18f77f12b469",
   "metadata": {},
   "outputs": [
    {
     "data": {
      "image/png": "[encoded data removed]",
      "text/plain": [
       "<Figure size 500x500 with 1 Axes>"
      ]
     },
     "metadata": {},
     "output_type": "display_data"
    }
   ],
   "source": [
    "sns.displot(data=df, x=df['Credit_Utilization_Ratio'], kde=True, bins=75)\n",
    "plt.xlabel('Credit_Utilization_Ratio')\n",
    "plt.ylabel('Number of Records')\n",
    "plt.title('Distribution of Credit_Utilization_Ratio')\n",
    "plt.xticks(rotation=90)\n",
    "plt.show()"
   ]
  },
  {
   "cell_type": "markdown",
   "id": "a23c5769-91e7-4a75-8a2b-ad7ef6a748d1",
   "metadata": {},
   "source": [
    "Credit_Utilization_Ratio seems to be following a normal distribution."
   ]
  },
  {
   "cell_type": "markdown",
   "id": "8513ee05-6835-4a7c-860b-25a291c49896",
   "metadata": {},
   "source": [
    "#### Feature: Credit_History_Age"
   ]
  },
  {
   "cell_type": "code",
   "execution_count": 115,
   "id": "e31879cf-46d9-45bc-a95a-1b272e7e8cd4",
   "metadata": {},
   "outputs": [
    {
     "data": {
      "text/plain": [
       "Credit_History_Age\n",
       "15 Years and 11 Months    446\n",
       "19 Years and 4 Months     445\n",
       "19 Years and 5 Months     444\n",
       "17 Years and 11 Months    443\n",
       "19 Years and 3 Months     441\n",
       "                         ... \n",
       "0 Years and 3 Months       20\n",
       "0 Years and 2 Months       15\n",
       "33 Years and 7 Months      14\n",
       "33 Years and 8 Months      12\n",
       "0 Years and 1 Months        2\n",
       "Name: count, Length: 404, dtype: int64"
      ]
     },
     "execution_count": 115,
     "metadata": {},
     "output_type": "execute_result"
    }
   ],
   "source": [
    "df['Credit_History_Age'].value_counts()"
   ]
  },
  {
   "cell_type": "code",
   "execution_count": 116,
   "id": "0369fd39-5aa0-41df-a00d-7935da8cc35b",
   "metadata": {},
   "outputs": [
    {
     "data": {
      "text/plain": [
       "np.int64(9030)"
      ]
     },
     "execution_count": 116,
     "metadata": {},
     "output_type": "execute_result"
    }
   ],
   "source": [
    "df['Credit_History_Age'].isnull().sum()"
   ]
  },
  {
   "cell_type": "markdown",
   "id": "e6d4ae4f-21ee-40d1-9acf-174fc0760527",
   "metadata": {},
   "source": [
    "Let's replace these null values using mode values of each customer."
   ]
  },
  {
   "cell_type": "code",
   "execution_count": 117,
   "id": "b431fe8a-e8a5-4b05-bf04-5f4d7e1183ca",
   "metadata": {},
   "outputs": [],
   "source": [
    "df['Credit_History_Age'] = df.groupby('Customer_ID')['Credit_History_Age'].transform(lambda x: x.mode().iloc[0])"
   ]
  },
  {
   "cell_type": "code",
   "execution_count": 118,
   "id": "ef4fed38-3273-4815-9848-e760e7ecba9e",
   "metadata": {},
   "outputs": [
    {
     "data": {
      "text/plain": [
       "np.int64(0)"
      ]
     },
     "execution_count": 118,
     "metadata": {},
     "output_type": "execute_result"
    }
   ],
   "source": [
    "df['Credit_History_Age'].isnull().sum()"
   ]
  },
  {
   "cell_type": "markdown",
   "id": "0ab8b025-7108-43e3-ba01-b4ba43698f34",
   "metadata": {},
   "source": [
    "The credit history values are in string format which is of no use. So, let's convert these into no.of months."
   ]
  },
  {
   "cell_type": "code",
   "execution_count": 119,
   "id": "65576be4-581c-4187-b651-acf754bab5f4",
   "metadata": {},
   "outputs": [],
   "source": [
    "def convert_to_months(age_str):\n",
    "    parts = age_str.split()\n",
    "    years = int(parts[0])\n",
    "    months = int(parts[3])\n",
    "    total_months = (years * 12) + months\n",
    "    return total_months\n",
    "\n",
    "# Apply the function to the 'Credit_History_Age' column\n",
    "df['Credit_History_Age_in_Months'] = df['Credit_History_Age'].apply(convert_to_months)"
   ]
  },
  {
   "cell_type": "code",
   "execution_count": 124,
   "id": "6c979fb3-2249-4d4f-a264-6e67b1b86825",
   "metadata": {},
   "outputs": [
    {
     "data": {
      "image/png": "[encoded data removed]",
      "text/plain": [
       "<Figure size 500x500 with 1 Axes>"
      ]
     },
     "metadata": {},
     "output_type": "display_data"
    }
   ],
   "source": [
    "sns.displot(data=df, x=df['Credit_History_Age_in_Months'], kde=True, bins=30)\n",
    "plt.xlabel('Credit_History_Age_Num')\n",
    "plt.ylabel('Number of Records')\n",
    "plt.title('Distribution of Credit_History_Age_Num')\n",
    "plt.xticks(rotation=90)\n",
    "plt.show()"
   ]
  },
  {
   "cell_type": "code",
   "execution_count": 126,
   "id": "51ffb616-ed82-4c98-bded-0eb2aa380f36",
   "metadata": {},
   "outputs": [],
   "source": [
    "# Dropping the original 'Credit_History_Age' column\n",
    "df.drop('Credit_History_Age', axis=1, inplace=True)"
   ]
  },
  {
   "cell_type": "markdown",
   "id": "e26aaf79-ca3b-46ce-9894-0a065beb7300",
   "metadata": {},
   "source": [
    "#### Feature: Payment_of_Min_Amount"
   ]
  },
  {
   "cell_type": "code",
   "execution_count": 131,
   "id": "1bf2298d-c998-4adc-b62b-a494662b6068",
   "metadata": {},
   "outputs": [
    {
     "data": {
      "text/plain": [
       "np.int64(0)"
      ]
     },
     "execution_count": 131,
     "metadata": {},
     "output_type": "execute_result"
    }
   ],
   "source": [
    "df['Payment_of_Min_Amount'].isnull().sum()"
   ]
  },
  {
   "cell_type": "code",
   "execution_count": 128,
   "id": "2755bddc-948a-4201-9fd6-9f36bdb1afeb",
   "metadata": {},
   "outputs": [
    {
     "data": {
      "text/plain": [
       "Payment_of_Min_Amount\n",
       "Yes    52326\n",
       "No     35667\n",
       "NM     12007\n",
       "Name: count, dtype: int64"
      ]
     },
     "execution_count": 128,
     "metadata": {},
     "output_type": "execute_result"
    }
   ],
   "source": [
    "df['Payment_of_Min_Amount'].value_counts()"
   ]
  },
  {
   "cell_type": "code",
   "execution_count": 130,
   "id": "5d6858b9-7b41-4a98-b703-a2b7b5e4f5b8",
   "metadata": {},
   "outputs": [
    {
     "data": {
      "text/plain": [
       "Payment_of_Min_Amount\n",
       "Yes    52.326\n",
       "No     35.667\n",
       "NM     12.007\n",
       "Name: proportion, dtype: float64"
      ]
     },
     "execution_count": 130,
     "metadata": {},
     "output_type": "execute_result"
    }
   ],
   "source": [
    "df['Payment_of_Min_Amount'].value_counts(normalize= True)*100"
   ]
  },
  {
   "cell_type": "markdown",
   "id": "0156f5f2-3df5-49a0-b30c-3f0e847a28a4",
   "metadata": {},
   "source": [
    "More than 52% has only paid the minimum amount needed."
   ]
  },
  {
   "cell_type": "markdown",
   "id": "67fe419b-8ab7-453d-9b5e-b37786f6278e",
   "metadata": {},
   "source": [
    "#### Feature: Total_EMI_per_month"
   ]
  },
  {
   "cell_type": "code",
   "execution_count": 133,
   "id": "bab3c281-0fbd-43f0-b416-53c6e62102db",
   "metadata": {},
   "outputs": [
    {
     "data": {
      "text/plain": [
       "np.int64(0)"
      ]
     },
     "execution_count": 133,
     "metadata": {},
     "output_type": "execute_result"
    }
   ],
   "source": [
    "df['Total_EMI_per_month'].isnull().sum()"
   ]
  },
  {
   "cell_type": "markdown",
   "id": "1fcfaa3e-071d-4815-a789-c487ab49df44",
   "metadata": {},
   "source": [
    "There are no null values in this column."
   ]
  },
  {
   "cell_type": "code",
   "execution_count": 134,
   "id": "8e36154e-d8e4-4dca-ac53-5e0396578025",
   "metadata": {},
   "outputs": [
    {
     "data": {
      "text/plain": [
       "Total_EMI_per_month\n",
       "0.000000        10613\n",
       "61.099331           8\n",
       "190.326311          8\n",
       "22.683279           8\n",
       "13.161860           8\n",
       "                ...  \n",
       "23809.000000        1\n",
       "62722.000000        1\n",
       "36418.000000        1\n",
       "103.414072          1\n",
       "68422.000000        1\n",
       "Name: count, Length: 14950, dtype: int64"
      ]
     },
     "execution_count": 134,
     "metadata": {},
     "output_type": "execute_result"
    }
   ],
   "source": [
    "df['Total_EMI_per_month'].value_counts()"
   ]
  },
  {
   "cell_type": "code",
   "execution_count": 136,
   "id": "eede7d8e-eed3-4013-8086-4a0efc2c3be1",
   "metadata": {},
   "outputs": [
    {
     "name": "stdout",
     "output_type": "stream",
     "text": [
      "float64\n"
     ]
    }
   ],
   "source": [
    "print(df['Total_EMI_per_month'].dtype)"
   ]
  },
  {
   "cell_type": "code",
   "execution_count": 137,
   "id": "7c59ff94-e5e3-46c3-9ea6-29aa6446c555",
   "metadata": {},
   "outputs": [
    {
     "name": "stdout",
     "output_type": "stream",
     "text": [
      "The minimum value of 'Total_EMI_per_month' is: 0.0\n",
      "The maximum value of 'Total_EMI_per_month' is: 82331.0\n"
     ]
    }
   ],
   "source": [
    "print(f\"The minimum value of 'Total_EMI_per_month' is: {df['Total_EMI_per_month'].min()}\")\n",
    "print(f\"The maximum value of 'Total_EMI_per_month' is: {df['Total_EMI_per_month'].max()}\")"
   ]
  },
  {
   "cell_type": "code",
   "execution_count": 142,
   "id": "b7812cc5-0166-44d1-8737-fea937c0ecc1",
   "metadata": {},
   "outputs": [],
   "source": [
    "df['Total_EMI_per_month'] = df.groupby('Customer_ID')['Total_EMI_per_month'].transform(lambda x: x.mode().iloc[0])"
   ]
  },
  {
   "cell_type": "code",
   "execution_count": 143,
   "id": "865a9fe6-7ba9-436d-abff-c0355f809ad2",
   "metadata": {},
   "outputs": [
    {
     "data": {
      "image/png": "[encoded data removed]",
      "text/plain": [
       "<Figure size 500x500 with 1 Axes>"
      ]
     },
     "metadata": {},
     "output_type": "display_data"
    }
   ],
   "source": [
    "sns.displot(data=df, x=df['Total_EMI_per_month'], kde=True, bins=60)\n",
    "plt.xlabel('Total_EMI_per_month')\n",
    "plt.ylabel('Number of Records')\n",
    "plt.title('Distribution of Total_EMI_per_month')\n",
    "plt.xticks(rotation=0)\n",
    "plt.show()"
   ]
  },
  {
   "cell_type": "code",
   "execution_count": null,
   "id": "b3254073-64ed-4101-8fde-c5975b6bbcaa",
   "metadata": {},
   "outputs": [],
   "source": []
  },
  {
   "cell_type": "code",
   "execution_count": null,
   "id": "ecd9d801-e1b4-4d15-b563-526fd444b914",
   "metadata": {},
   "outputs": [],
   "source": []
  },
  {
   "cell_type": "code",
   "execution_count": null,
   "id": "2925afd8-ed2b-4234-a22f-31f7d450810b",
   "metadata": {},
   "outputs": [],
   "source": []
  },
  {
   "cell_type": "code",
   "execution_count": null,
   "id": "a29dfbbc-fbe1-49b7-b3c7-e9a5f8df86ac",
   "metadata": {},
   "outputs": [],
   "source": []
  },
  {
   "cell_type": "code",
   "execution_count": null,
   "id": "0c10d08e-ea61-4251-a67d-29b6b5212428",
   "metadata": {},
   "outputs": [],
   "source": []
  },
  {
   "cell_type": "code",
   "execution_count": null,
   "id": "f001b4e5-fb9c-443e-a9e9-d7843ae329bd",
   "metadata": {},
   "outputs": [],
   "source": []
  },
  {
   "cell_type": "code",
   "execution_count": null,
   "id": "5203b173-9d45-4a31-b6d7-edad29b96632",
   "metadata": {},
   "outputs": [],
   "source": []
  },
  {
   "cell_type": "code",
   "execution_count": null,
   "id": "d487e7fb-620b-46b5-b73d-b5eb435d7698",
   "metadata": {},
   "outputs": [],
   "source": []
  },
  {
   "cell_type": "code",
   "execution_count": null,
   "id": "be3ccfc1-48d8-4132-a3f4-1ac3a3a553dc",
   "metadata": {},
   "outputs": [],
   "source": []
  },
  {
   "cell_type": "code",
   "execution_count": null,
   "id": "4e5f5db2-7d06-4332-baa8-07b063f7192a",
   "metadata": {},
   "outputs": [],
   "source": []
  },
  {
   "cell_type": "code",
   "execution_count": null,
   "id": "c7af1375-6bc8-462f-afed-4aea3c30171d",
   "metadata": {},
   "outputs": [],
   "source": []
  }
 ],
 "metadata": {
  "kernelspec": {
   "display_name": "Python 3 (ipykernel)",
   "language": "python",
   "name": "python3"
  },
  "language_info": {
   "codemirror_mode": {
    "name": "ipython",
    "version": 3
   },
   "file_extension": ".py",
   "mimetype": "text/x-python",
   "name": "python",
   "nbconvert_exporter": "python",
   "pygments_lexer": "ipython3",
   "version": "3.12.4"
  }
 },
 "nbformat": 4,
 "nbformat_minor": 5
}
